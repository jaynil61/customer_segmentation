{
 "cells": [
  {
   "cell_type": "markdown",
   "metadata": {},
   "source": [
    "# Customer segmentation              - Jaynil Patel"
   ]
  },
  {
   "cell_type": "markdown",
   "metadata": {},
   "source": [
    "# Abstract"
   ]
  },
  {
   "cell_type": "markdown",
   "metadata": {},
   "source": [
    "Customer segmentation is a vital strategy for businesses seeking to tailor their marketing efforts and enhance customer satisfaction. By dividing customers into distinct groups based on shared characteristics, such as purchasing behavior, demographics, or preferences, businesses can better understand and meet the unique needs of each segment. This paper explores the process of customer segmentation and its significance in modern marketing. Through the application of data analysis techniques, including RFM (Recency, Frequency, Monetary) analysis and clustering algorithms such as K-means, businesses can identify meaningful customer segments and develop targeted marketing strategies to improve customer acquisition, retention, and loyalty."
   ]
  },
  {
   "cell_type": "markdown",
   "metadata": {},
   "source": [
    "# Introduction"
   ]
  },
  {
   "cell_type": "markdown",
   "metadata": {},
   "source": [
    "This notebook aims at analyzing the content of an E-commerce database that lists purchases made by  ∼\n",
    " 4000 customers over a period of one year (from 2010/12/01 to 2011/12/09)."
   ]
  },
  {
   "cell_type": "markdown",
   "metadata": {},
   "source": [
    "# Importing Required Libraries \n",
    "Numpy For linear algebra |\n",
    "Pandas For Data processing, CSV file I/O (e.g. pd.read_csv) |\n",
    "Matplotlib For Data Visualizations"
   ]
  },
  {
   "cell_type": "code",
   "execution_count": 1,
   "metadata": {},
   "outputs": [
    {
     "name": "stderr",
     "output_type": "stream",
     "text": [
      "C:\\Users\\jaynil patel\\anaconda3\\lib\\site-packages\\scipy\\__init__.py:146: UserWarning: A NumPy version >=1.16.5 and <1.23.0 is required for this version of SciPy (detected version 1.23.5\n",
      "  warnings.warn(f\"A NumPy version >={np_minversion} and <{np_maxversion}\"\n"
     ]
    }
   ],
   "source": [
    "\n",
    "import numpy as np \n",
    "import pandas as pd \n",
    "\n",
    "import time, warnings\n",
    "import datetime as dt\n",
    "\n",
    "import matplotlib.pyplot as plt\n",
    "from pandas.plotting import scatter_matrix\n",
    "%matplotlib inline\n",
    "import seaborn as sns\n",
    "warnings.filterwarnings(\"ignore\")"
   ]
  },
  {
   "cell_type": "code",
   "execution_count": 2,
   "metadata": {},
   "outputs": [
    {
     "data": {
      "text/html": [
       "<div>\n",
       "<style scoped>\n",
       "    .dataframe tbody tr th:only-of-type {\n",
       "        vertical-align: middle;\n",
       "    }\n",
       "\n",
       "    .dataframe tbody tr th {\n",
       "        vertical-align: top;\n",
       "    }\n",
       "\n",
       "    .dataframe thead th {\n",
       "        text-align: right;\n",
       "    }\n",
       "</style>\n",
       "<table border=\"1\" class=\"dataframe\">\n",
       "  <thead>\n",
       "    <tr style=\"text-align: right;\">\n",
       "      <th></th>\n",
       "      <th>InvoiceNo</th>\n",
       "      <th>StockCode</th>\n",
       "      <th>Description</th>\n",
       "      <th>Quantity</th>\n",
       "      <th>InvoiceDate</th>\n",
       "      <th>UnitPrice</th>\n",
       "      <th>CustomerID</th>\n",
       "      <th>Country</th>\n",
       "    </tr>\n",
       "  </thead>\n",
       "  <tbody>\n",
       "    <tr>\n",
       "      <th>0</th>\n",
       "      <td>536365</td>\n",
       "      <td>85123A</td>\n",
       "      <td>WHITE HANGING HEART T-LIGHT HOLDER</td>\n",
       "      <td>6</td>\n",
       "      <td>12/1/2010 8:26</td>\n",
       "      <td>2.55</td>\n",
       "      <td>17850</td>\n",
       "      <td>United Kingdom</td>\n",
       "    </tr>\n",
       "    <tr>\n",
       "      <th>1</th>\n",
       "      <td>536365</td>\n",
       "      <td>71053</td>\n",
       "      <td>WHITE METAL LANTERN</td>\n",
       "      <td>6</td>\n",
       "      <td>12/1/2010 8:26</td>\n",
       "      <td>3.39</td>\n",
       "      <td>17850</td>\n",
       "      <td>United Kingdom</td>\n",
       "    </tr>\n",
       "    <tr>\n",
       "      <th>2</th>\n",
       "      <td>536365</td>\n",
       "      <td>84406B</td>\n",
       "      <td>CREAM CUPID HEARTS COAT HANGER</td>\n",
       "      <td>8</td>\n",
       "      <td>12/1/2010 8:26</td>\n",
       "      <td>2.75</td>\n",
       "      <td>17850</td>\n",
       "      <td>United Kingdom</td>\n",
       "    </tr>\n",
       "    <tr>\n",
       "      <th>3</th>\n",
       "      <td>536365</td>\n",
       "      <td>84029G</td>\n",
       "      <td>KNITTED UNION FLAG HOT WATER BOTTLE</td>\n",
       "      <td>6</td>\n",
       "      <td>12/1/2010 8:26</td>\n",
       "      <td>3.39</td>\n",
       "      <td>17850</td>\n",
       "      <td>United Kingdom</td>\n",
       "    </tr>\n",
       "    <tr>\n",
       "      <th>4</th>\n",
       "      <td>536365</td>\n",
       "      <td>84029E</td>\n",
       "      <td>RED WOOLLY HOTTIE WHITE HEART.</td>\n",
       "      <td>6</td>\n",
       "      <td>12/1/2010 8:26</td>\n",
       "      <td>3.39</td>\n",
       "      <td>17850</td>\n",
       "      <td>United Kingdom</td>\n",
       "    </tr>\n",
       "  </tbody>\n",
       "</table>\n",
       "</div>"
      ],
      "text/plain": [
       "  InvoiceNo StockCode                          Description  Quantity  \\\n",
       "0    536365    85123A   WHITE HANGING HEART T-LIGHT HOLDER         6   \n",
       "1    536365     71053                  WHITE METAL LANTERN         6   \n",
       "2    536365    84406B       CREAM CUPID HEARTS COAT HANGER         8   \n",
       "3    536365    84029G  KNITTED UNION FLAG HOT WATER BOTTLE         6   \n",
       "4    536365    84029E       RED WOOLLY HOTTIE WHITE HEART.         6   \n",
       "\n",
       "      InvoiceDate  UnitPrice CustomerID         Country  \n",
       "0  12/1/2010 8:26       2.55      17850  United Kingdom  \n",
       "1  12/1/2010 8:26       3.39      17850  United Kingdom  \n",
       "2  12/1/2010 8:26       2.75      17850  United Kingdom  \n",
       "3  12/1/2010 8:26       3.39      17850  United Kingdom  \n",
       "4  12/1/2010 8:26       3.39      17850  United Kingdom  "
      ]
     },
     "execution_count": 2,
     "metadata": {},
     "output_type": "execute_result"
    }
   ],
   "source": [
    "retail_df = pd.read_csv('retail_Dataset.csv',encoding=\"ISO-8859-1\",dtype={'CustomerID': str,'InvoiceID': str})\n",
    "retail_df.head()"
   ]
  },
  {
   "cell_type": "markdown",
   "metadata": {},
   "source": [
    "This dataframe contains 8 variables that correspond to: \n",
    "\n",
    "**InvoiceNo**: Invoice number. Nominal, a 6-digit integral number uniquely assigned to each transaction. <br>\n",
    "**StockCode**: Product (item) code. Nominal, a 5-digit integral number uniquely assigned to each distinct product. <br>\n",
    "**Description**: Product (item) name. Nominal. <br>\n",
    "**Quantity**: The quantities of each product (item) per transaction. Numeric.\t<br>\n",
    "**InvoiceDate**: Invice Date and time. Numeric, the day and time when each transaction was generated. <br>\n",
    "**UnitPrice**: Unit price. Numeric, Product price per unit in sterling. <br>\n",
    "**CustomerID**: Customer number. Nominal, a 5-digit integral number uniquely assigned to each customer. <br>\n",
    "**Country**: Country name. Nominal, the name of the country where each customer resides.<br>"
   ]
  },
  {
   "cell_type": "markdown",
   "metadata": {},
   "source": [
    "# Creating a new column \"Amount\" by multiplying \"Quantity\" and \"Unit Price\"\n",
    "\n"
   ]
  },
  {
   "cell_type": "code",
   "execution_count": 3,
   "metadata": {},
   "outputs": [
    {
     "data": {
      "text/html": [
       "<div>\n",
       "<style scoped>\n",
       "    .dataframe tbody tr th:only-of-type {\n",
       "        vertical-align: middle;\n",
       "    }\n",
       "\n",
       "    .dataframe tbody tr th {\n",
       "        vertical-align: top;\n",
       "    }\n",
       "\n",
       "    .dataframe thead th {\n",
       "        text-align: right;\n",
       "    }\n",
       "</style>\n",
       "<table border=\"1\" class=\"dataframe\">\n",
       "  <thead>\n",
       "    <tr style=\"text-align: right;\">\n",
       "      <th></th>\n",
       "      <th>InvoiceNo</th>\n",
       "      <th>StockCode</th>\n",
       "      <th>Description</th>\n",
       "      <th>Quantity</th>\n",
       "      <th>InvoiceDate</th>\n",
       "      <th>UnitPrice</th>\n",
       "      <th>CustomerID</th>\n",
       "      <th>Country</th>\n",
       "      <th>Amount</th>\n",
       "    </tr>\n",
       "  </thead>\n",
       "  <tbody>\n",
       "    <tr>\n",
       "      <th>0</th>\n",
       "      <td>536365</td>\n",
       "      <td>85123A</td>\n",
       "      <td>WHITE HANGING HEART T-LIGHT HOLDER</td>\n",
       "      <td>6</td>\n",
       "      <td>12/1/2010 8:26</td>\n",
       "      <td>2.55</td>\n",
       "      <td>17850</td>\n",
       "      <td>United Kingdom</td>\n",
       "      <td>15.30</td>\n",
       "    </tr>\n",
       "    <tr>\n",
       "      <th>1</th>\n",
       "      <td>536365</td>\n",
       "      <td>71053</td>\n",
       "      <td>WHITE METAL LANTERN</td>\n",
       "      <td>6</td>\n",
       "      <td>12/1/2010 8:26</td>\n",
       "      <td>3.39</td>\n",
       "      <td>17850</td>\n",
       "      <td>United Kingdom</td>\n",
       "      <td>20.34</td>\n",
       "    </tr>\n",
       "    <tr>\n",
       "      <th>2</th>\n",
       "      <td>536365</td>\n",
       "      <td>84406B</td>\n",
       "      <td>CREAM CUPID HEARTS COAT HANGER</td>\n",
       "      <td>8</td>\n",
       "      <td>12/1/2010 8:26</td>\n",
       "      <td>2.75</td>\n",
       "      <td>17850</td>\n",
       "      <td>United Kingdom</td>\n",
       "      <td>22.00</td>\n",
       "    </tr>\n",
       "    <tr>\n",
       "      <th>3</th>\n",
       "      <td>536365</td>\n",
       "      <td>84029G</td>\n",
       "      <td>KNITTED UNION FLAG HOT WATER BOTTLE</td>\n",
       "      <td>6</td>\n",
       "      <td>12/1/2010 8:26</td>\n",
       "      <td>3.39</td>\n",
       "      <td>17850</td>\n",
       "      <td>United Kingdom</td>\n",
       "      <td>20.34</td>\n",
       "    </tr>\n",
       "    <tr>\n",
       "      <th>4</th>\n",
       "      <td>536365</td>\n",
       "      <td>84029E</td>\n",
       "      <td>RED WOOLLY HOTTIE WHITE HEART.</td>\n",
       "      <td>6</td>\n",
       "      <td>12/1/2010 8:26</td>\n",
       "      <td>3.39</td>\n",
       "      <td>17850</td>\n",
       "      <td>United Kingdom</td>\n",
       "      <td>20.34</td>\n",
       "    </tr>\n",
       "    <tr>\n",
       "      <th>5</th>\n",
       "      <td>536365</td>\n",
       "      <td>22752</td>\n",
       "      <td>SET 7 BABUSHKA NESTING BOXES</td>\n",
       "      <td>2</td>\n",
       "      <td>12/1/2010 8:26</td>\n",
       "      <td>7.65</td>\n",
       "      <td>17850</td>\n",
       "      <td>United Kingdom</td>\n",
       "      <td>15.30</td>\n",
       "    </tr>\n",
       "    <tr>\n",
       "      <th>6</th>\n",
       "      <td>536365</td>\n",
       "      <td>21730</td>\n",
       "      <td>GLASS STAR FROSTED T-LIGHT HOLDER</td>\n",
       "      <td>6</td>\n",
       "      <td>12/1/2010 8:26</td>\n",
       "      <td>4.25</td>\n",
       "      <td>17850</td>\n",
       "      <td>United Kingdom</td>\n",
       "      <td>25.50</td>\n",
       "    </tr>\n",
       "    <tr>\n",
       "      <th>7</th>\n",
       "      <td>536366</td>\n",
       "      <td>22633</td>\n",
       "      <td>HAND WARMER UNION JACK</td>\n",
       "      <td>6</td>\n",
       "      <td>12/1/2010 8:28</td>\n",
       "      <td>1.85</td>\n",
       "      <td>17850</td>\n",
       "      <td>United Kingdom</td>\n",
       "      <td>11.10</td>\n",
       "    </tr>\n",
       "    <tr>\n",
       "      <th>8</th>\n",
       "      <td>536366</td>\n",
       "      <td>22632</td>\n",
       "      <td>HAND WARMER RED POLKA DOT</td>\n",
       "      <td>6</td>\n",
       "      <td>12/1/2010 8:28</td>\n",
       "      <td>1.85</td>\n",
       "      <td>17850</td>\n",
       "      <td>United Kingdom</td>\n",
       "      <td>11.10</td>\n",
       "    </tr>\n",
       "    <tr>\n",
       "      <th>9</th>\n",
       "      <td>536367</td>\n",
       "      <td>84879</td>\n",
       "      <td>ASSORTED COLOUR BIRD ORNAMENT</td>\n",
       "      <td>32</td>\n",
       "      <td>12/1/2010 8:34</td>\n",
       "      <td>1.69</td>\n",
       "      <td>13047</td>\n",
       "      <td>United Kingdom</td>\n",
       "      <td>54.08</td>\n",
       "    </tr>\n",
       "  </tbody>\n",
       "</table>\n",
       "</div>"
      ],
      "text/plain": [
       "  InvoiceNo StockCode                          Description  Quantity  \\\n",
       "0    536365    85123A   WHITE HANGING HEART T-LIGHT HOLDER         6   \n",
       "1    536365     71053                  WHITE METAL LANTERN         6   \n",
       "2    536365    84406B       CREAM CUPID HEARTS COAT HANGER         8   \n",
       "3    536365    84029G  KNITTED UNION FLAG HOT WATER BOTTLE         6   \n",
       "4    536365    84029E       RED WOOLLY HOTTIE WHITE HEART.         6   \n",
       "5    536365     22752         SET 7 BABUSHKA NESTING BOXES         2   \n",
       "6    536365     21730    GLASS STAR FROSTED T-LIGHT HOLDER         6   \n",
       "7    536366     22633               HAND WARMER UNION JACK         6   \n",
       "8    536366     22632            HAND WARMER RED POLKA DOT         6   \n",
       "9    536367     84879        ASSORTED COLOUR BIRD ORNAMENT        32   \n",
       "\n",
       "      InvoiceDate  UnitPrice CustomerID         Country  Amount  \n",
       "0  12/1/2010 8:26       2.55      17850  United Kingdom   15.30  \n",
       "1  12/1/2010 8:26       3.39      17850  United Kingdom   20.34  \n",
       "2  12/1/2010 8:26       2.75      17850  United Kingdom   22.00  \n",
       "3  12/1/2010 8:26       3.39      17850  United Kingdom   20.34  \n",
       "4  12/1/2010 8:26       3.39      17850  United Kingdom   20.34  \n",
       "5  12/1/2010 8:26       7.65      17850  United Kingdom   15.30  \n",
       "6  12/1/2010 8:26       4.25      17850  United Kingdom   25.50  \n",
       "7  12/1/2010 8:28       1.85      17850  United Kingdom   11.10  \n",
       "8  12/1/2010 8:28       1.85      17850  United Kingdom   11.10  \n",
       "9  12/1/2010 8:34       1.69      13047  United Kingdom   54.08  "
      ]
     },
     "execution_count": 3,
     "metadata": {},
     "output_type": "execute_result"
    }
   ],
   "source": [
    "retail_df[\"Amount\"]= retail_df[\"Quantity\"]*retail_df[\"UnitPrice\"]\n",
    "retail_df.head(10)"
   ]
  },
  {
   "cell_type": "markdown",
   "metadata": {},
   "source": [
    "# Counting Null fields "
   ]
  },
  {
   "cell_type": "code",
   "execution_count": 4,
   "metadata": {},
   "outputs": [
    {
     "data": {
      "text/plain": [
       "InvoiceNo           0\n",
       "StockCode           0\n",
       "Description      1454\n",
       "Quantity            0\n",
       "InvoiceDate         0\n",
       "UnitPrice           0\n",
       "CustomerID     135080\n",
       "Country             0\n",
       "Amount              0\n",
       "dtype: int64"
      ]
     },
     "execution_count": 4,
     "metadata": {},
     "output_type": "execute_result"
    }
   ],
   "source": [
    "retail_df.isna().sum()"
   ]
  },
  {
   "cell_type": "markdown",
   "metadata": {},
   "source": [
    "# Datatypes of Features"
   ]
  },
  {
   "cell_type": "code",
   "execution_count": 5,
   "metadata": {},
   "outputs": [
    {
     "data": {
      "text/plain": [
       "InvoiceNo       object\n",
       "StockCode       object\n",
       "Description     object\n",
       "Quantity         int64\n",
       "InvoiceDate     object\n",
       "UnitPrice      float64\n",
       "CustomerID      object\n",
       "Country         object\n",
       "Amount         float64\n",
       "dtype: object"
      ]
     },
     "execution_count": 5,
     "metadata": {},
     "output_type": "execute_result"
    }
   ],
   "source": [
    "retail_df.dtypes \n"
   ]
  },
  {
   "cell_type": "markdown",
   "metadata": {},
   "source": [
    "# Brief summary for columns whose data types are NOT NUMBER"
   ]
  },
  {
   "cell_type": "code",
   "execution_count": 6,
   "metadata": {},
   "outputs": [
    {
     "data": {
      "text/html": [
       "<div>\n",
       "<style scoped>\n",
       "    .dataframe tbody tr th:only-of-type {\n",
       "        vertical-align: middle;\n",
       "    }\n",
       "\n",
       "    .dataframe tbody tr th {\n",
       "        vertical-align: top;\n",
       "    }\n",
       "\n",
       "    .dataframe thead th {\n",
       "        text-align: right;\n",
       "    }\n",
       "</style>\n",
       "<table border=\"1\" class=\"dataframe\">\n",
       "  <thead>\n",
       "    <tr style=\"text-align: right;\">\n",
       "      <th></th>\n",
       "      <th>InvoiceNo</th>\n",
       "      <th>StockCode</th>\n",
       "      <th>Description</th>\n",
       "      <th>InvoiceDate</th>\n",
       "      <th>CustomerID</th>\n",
       "      <th>Country</th>\n",
       "    </tr>\n",
       "  </thead>\n",
       "  <tbody>\n",
       "    <tr>\n",
       "      <th>count</th>\n",
       "      <td>541909</td>\n",
       "      <td>541909</td>\n",
       "      <td>540455</td>\n",
       "      <td>541909</td>\n",
       "      <td>406829</td>\n",
       "      <td>541909</td>\n",
       "    </tr>\n",
       "    <tr>\n",
       "      <th>unique</th>\n",
       "      <td>25900</td>\n",
       "      <td>4070</td>\n",
       "      <td>4223</td>\n",
       "      <td>23260</td>\n",
       "      <td>4372</td>\n",
       "      <td>38</td>\n",
       "    </tr>\n",
       "    <tr>\n",
       "      <th>top</th>\n",
       "      <td>573585</td>\n",
       "      <td>85123A</td>\n",
       "      <td>WHITE HANGING HEART T-LIGHT HOLDER</td>\n",
       "      <td>10/31/2011 14:41</td>\n",
       "      <td>17841</td>\n",
       "      <td>United Kingdom</td>\n",
       "    </tr>\n",
       "    <tr>\n",
       "      <th>freq</th>\n",
       "      <td>1114</td>\n",
       "      <td>2313</td>\n",
       "      <td>2369</td>\n",
       "      <td>1114</td>\n",
       "      <td>7983</td>\n",
       "      <td>495478</td>\n",
       "    </tr>\n",
       "  </tbody>\n",
       "</table>\n",
       "</div>"
      ],
      "text/plain": [
       "       InvoiceNo StockCode                         Description  \\\n",
       "count     541909    541909                              540455   \n",
       "unique     25900      4070                                4223   \n",
       "top       573585    85123A  WHITE HANGING HEART T-LIGHT HOLDER   \n",
       "freq        1114      2313                                2369   \n",
       "\n",
       "             InvoiceDate CustomerID         Country  \n",
       "count             541909     406829          541909  \n",
       "unique             23260       4372              38  \n",
       "top     10/31/2011 14:41      17841  United Kingdom  \n",
       "freq                1114       7983          495478  "
      ]
     },
     "execution_count": 6,
     "metadata": {},
     "output_type": "execute_result"
    }
   ],
   "source": [
    "retail_df.describe(exclude=\"number\")  \n"
   ]
  },
  {
   "cell_type": "markdown",
   "metadata": {},
   "source": [
    "We can notice that most of the transactions are from the country United Kingdom"
   ]
  },
  {
   "cell_type": "markdown",
   "metadata": {},
   "source": [
    "# Summary for columns whose data types are NUMBER\n",
    "\n"
   ]
  },
  {
   "cell_type": "code",
   "execution_count": 7,
   "metadata": {},
   "outputs": [
    {
     "data": {
      "text/html": [
       "<div>\n",
       "<style scoped>\n",
       "    .dataframe tbody tr th:only-of-type {\n",
       "        vertical-align: middle;\n",
       "    }\n",
       "\n",
       "    .dataframe tbody tr th {\n",
       "        vertical-align: top;\n",
       "    }\n",
       "\n",
       "    .dataframe thead th {\n",
       "        text-align: right;\n",
       "    }\n",
       "</style>\n",
       "<table border=\"1\" class=\"dataframe\">\n",
       "  <thead>\n",
       "    <tr style=\"text-align: right;\">\n",
       "      <th></th>\n",
       "      <th>Quantity</th>\n",
       "      <th>UnitPrice</th>\n",
       "      <th>Amount</th>\n",
       "    </tr>\n",
       "  </thead>\n",
       "  <tbody>\n",
       "    <tr>\n",
       "      <th>count</th>\n",
       "      <td>541909.000000</td>\n",
       "      <td>541909.000000</td>\n",
       "      <td>541909.000000</td>\n",
       "    </tr>\n",
       "    <tr>\n",
       "      <th>mean</th>\n",
       "      <td>9.552250</td>\n",
       "      <td>4.611114</td>\n",
       "      <td>17.987795</td>\n",
       "    </tr>\n",
       "    <tr>\n",
       "      <th>std</th>\n",
       "      <td>218.081158</td>\n",
       "      <td>96.759853</td>\n",
       "      <td>378.810824</td>\n",
       "    </tr>\n",
       "    <tr>\n",
       "      <th>min</th>\n",
       "      <td>-80995.000000</td>\n",
       "      <td>-11062.060000</td>\n",
       "      <td>-168469.600000</td>\n",
       "    </tr>\n",
       "    <tr>\n",
       "      <th>25%</th>\n",
       "      <td>1.000000</td>\n",
       "      <td>1.250000</td>\n",
       "      <td>3.400000</td>\n",
       "    </tr>\n",
       "    <tr>\n",
       "      <th>50%</th>\n",
       "      <td>3.000000</td>\n",
       "      <td>2.080000</td>\n",
       "      <td>9.750000</td>\n",
       "    </tr>\n",
       "    <tr>\n",
       "      <th>75%</th>\n",
       "      <td>10.000000</td>\n",
       "      <td>4.130000</td>\n",
       "      <td>17.400000</td>\n",
       "    </tr>\n",
       "    <tr>\n",
       "      <th>max</th>\n",
       "      <td>80995.000000</td>\n",
       "      <td>38970.000000</td>\n",
       "      <td>168469.600000</td>\n",
       "    </tr>\n",
       "  </tbody>\n",
       "</table>\n",
       "</div>"
      ],
      "text/plain": [
       "            Quantity      UnitPrice         Amount\n",
       "count  541909.000000  541909.000000  541909.000000\n",
       "mean        9.552250       4.611114      17.987795\n",
       "std       218.081158      96.759853     378.810824\n",
       "min    -80995.000000  -11062.060000 -168469.600000\n",
       "25%         1.000000       1.250000       3.400000\n",
       "50%         3.000000       2.080000       9.750000\n",
       "75%        10.000000       4.130000      17.400000\n",
       "max     80995.000000   38970.000000  168469.600000"
      ]
     },
     "execution_count": 7,
     "metadata": {},
     "output_type": "execute_result"
    }
   ],
   "source": [
    "retail_df.describe() "
   ]
  },
  {
   "cell_type": "markdown",
   "metadata": {},
   "source": [
    "# Number of rows and  columns"
   ]
  },
  {
   "cell_type": "code",
   "execution_count": 8,
   "metadata": {},
   "outputs": [
    {
     "data": {
      "text/plain": [
       "(541909, 9)"
      ]
     },
     "execution_count": 8,
     "metadata": {},
     "output_type": "execute_result"
    }
   ],
   "source": [
    "retail_df.shape \n"
   ]
  },
  {
   "cell_type": "markdown",
   "metadata": {},
   "source": [
    "# Converting a column's datatype to datetime\n",
    "\n"
   ]
  },
  {
   "cell_type": "code",
   "execution_count": 9,
   "metadata": {},
   "outputs": [
    {
     "data": {
      "text/plain": [
       "InvoiceNo              object\n",
       "StockCode              object\n",
       "Description            object\n",
       "Quantity                int64\n",
       "InvoiceDate    datetime64[ns]\n",
       "UnitPrice             float64\n",
       "CustomerID             object\n",
       "Country                object\n",
       "Amount                float64\n",
       "dtype: object"
      ]
     },
     "execution_count": 9,
     "metadata": {},
     "output_type": "execute_result"
    }
   ],
   "source": [
    "retail_df[\"InvoiceDate\"] = pd.to_datetime(retail_df[\"InvoiceDate\"])\n",
    "retail_df.dtypes\n"
   ]
  },
  {
   "cell_type": "code",
   "execution_count": 10,
   "metadata": {},
   "outputs": [
    {
     "data": {
      "text/html": [
       "<div>\n",
       "<style scoped>\n",
       "    .dataframe tbody tr th:only-of-type {\n",
       "        vertical-align: middle;\n",
       "    }\n",
       "\n",
       "    .dataframe tbody tr th {\n",
       "        vertical-align: top;\n",
       "    }\n",
       "\n",
       "    .dataframe thead th {\n",
       "        text-align: right;\n",
       "    }\n",
       "</style>\n",
       "<table border=\"1\" class=\"dataframe\">\n",
       "  <thead>\n",
       "    <tr style=\"text-align: right;\">\n",
       "      <th></th>\n",
       "      <th>InvoiceNo</th>\n",
       "      <th>StockCode</th>\n",
       "      <th>Description</th>\n",
       "      <th>Quantity</th>\n",
       "      <th>InvoiceDate</th>\n",
       "      <th>UnitPrice</th>\n",
       "      <th>CustomerID</th>\n",
       "      <th>Country</th>\n",
       "      <th>Amount</th>\n",
       "    </tr>\n",
       "  </thead>\n",
       "  <tbody>\n",
       "    <tr>\n",
       "      <th>0</th>\n",
       "      <td>536365</td>\n",
       "      <td>85123A</td>\n",
       "      <td>WHITE HANGING HEART T-LIGHT HOLDER</td>\n",
       "      <td>6</td>\n",
       "      <td>2010-12-01 08:26:00</td>\n",
       "      <td>2.55</td>\n",
       "      <td>17850</td>\n",
       "      <td>United Kingdom</td>\n",
       "      <td>15.30</td>\n",
       "    </tr>\n",
       "    <tr>\n",
       "      <th>1</th>\n",
       "      <td>536365</td>\n",
       "      <td>71053</td>\n",
       "      <td>WHITE METAL LANTERN</td>\n",
       "      <td>6</td>\n",
       "      <td>2010-12-01 08:26:00</td>\n",
       "      <td>3.39</td>\n",
       "      <td>17850</td>\n",
       "      <td>United Kingdom</td>\n",
       "      <td>20.34</td>\n",
       "    </tr>\n",
       "    <tr>\n",
       "      <th>2</th>\n",
       "      <td>536365</td>\n",
       "      <td>84406B</td>\n",
       "      <td>CREAM CUPID HEARTS COAT HANGER</td>\n",
       "      <td>8</td>\n",
       "      <td>2010-12-01 08:26:00</td>\n",
       "      <td>2.75</td>\n",
       "      <td>17850</td>\n",
       "      <td>United Kingdom</td>\n",
       "      <td>22.00</td>\n",
       "    </tr>\n",
       "    <tr>\n",
       "      <th>3</th>\n",
       "      <td>536365</td>\n",
       "      <td>84029G</td>\n",
       "      <td>KNITTED UNION FLAG HOT WATER BOTTLE</td>\n",
       "      <td>6</td>\n",
       "      <td>2010-12-01 08:26:00</td>\n",
       "      <td>3.39</td>\n",
       "      <td>17850</td>\n",
       "      <td>United Kingdom</td>\n",
       "      <td>20.34</td>\n",
       "    </tr>\n",
       "    <tr>\n",
       "      <th>4</th>\n",
       "      <td>536365</td>\n",
       "      <td>84029E</td>\n",
       "      <td>RED WOOLLY HOTTIE WHITE HEART.</td>\n",
       "      <td>6</td>\n",
       "      <td>2010-12-01 08:26:00</td>\n",
       "      <td>3.39</td>\n",
       "      <td>17850</td>\n",
       "      <td>United Kingdom</td>\n",
       "      <td>20.34</td>\n",
       "    </tr>\n",
       "  </tbody>\n",
       "</table>\n",
       "</div>"
      ],
      "text/plain": [
       "  InvoiceNo StockCode                          Description  Quantity  \\\n",
       "0    536365    85123A   WHITE HANGING HEART T-LIGHT HOLDER         6   \n",
       "1    536365     71053                  WHITE METAL LANTERN         6   \n",
       "2    536365    84406B       CREAM CUPID HEARTS COAT HANGER         8   \n",
       "3    536365    84029G  KNITTED UNION FLAG HOT WATER BOTTLE         6   \n",
       "4    536365    84029E       RED WOOLLY HOTTIE WHITE HEART.         6   \n",
       "\n",
       "          InvoiceDate  UnitPrice CustomerID         Country  Amount  \n",
       "0 2010-12-01 08:26:00       2.55      17850  United Kingdom   15.30  \n",
       "1 2010-12-01 08:26:00       3.39      17850  United Kingdom   20.34  \n",
       "2 2010-12-01 08:26:00       2.75      17850  United Kingdom   22.00  \n",
       "3 2010-12-01 08:26:00       3.39      17850  United Kingdom   20.34  \n",
       "4 2010-12-01 08:26:00       3.39      17850  United Kingdom   20.34  "
      ]
     },
     "execution_count": 10,
     "metadata": {},
     "output_type": "execute_result"
    }
   ],
   "source": [
    "retail_df.head()\n"
   ]
  },
  {
   "cell_type": "markdown",
   "metadata": {},
   "source": [
    "# Fetching proportions of Country with the parameter \"normalize=True\""
   ]
  },
  {
   "cell_type": "code",
   "execution_count": 11,
   "metadata": {},
   "outputs": [
    {
     "data": {
      "text/plain": [
       "United Kingdom          0.914320\n",
       "Germany                 0.017521\n",
       "France                  0.015790\n",
       "EIRE                    0.015124\n",
       "Spain                   0.004674\n",
       "Netherlands             0.004375\n",
       "Belgium                 0.003818\n",
       "Switzerland             0.003694\n",
       "Portugal                0.002803\n",
       "Australia               0.002323\n",
       "Norway                  0.002004\n",
       "Italy                   0.001482\n",
       "Channel Islands         0.001399\n",
       "Finland                 0.001283\n",
       "Cyprus                  0.001148\n",
       "Sweden                  0.000853\n",
       "Unspecified             0.000823\n",
       "Austria                 0.000740\n",
       "Denmark                 0.000718\n",
       "Japan                   0.000661\n",
       "Poland                  0.000629\n",
       "Israel                  0.000548\n",
       "USA                     0.000537\n",
       "Hong Kong               0.000531\n",
       "Singapore               0.000423\n",
       "Iceland                 0.000336\n",
       "Canada                  0.000279\n",
       "Greece                  0.000269\n",
       "Malta                   0.000234\n",
       "United Arab Emirates    0.000125\n",
       "European Community      0.000113\n",
       "RSA                     0.000107\n",
       "Lebanon                 0.000083\n",
       "Lithuania               0.000065\n",
       "Brazil                  0.000059\n",
       "Czech Republic          0.000055\n",
       "Bahrain                 0.000035\n",
       "Saudi Arabia            0.000018\n",
       "Name: Country, dtype: float64"
      ]
     },
     "execution_count": 11,
     "metadata": {},
     "output_type": "execute_result"
    }
   ],
   "source": [
    "retail_df.Country.value_counts(normalize=True) "
   ]
  },
  {
   "cell_type": "markdown",
   "metadata": {},
   "source": [
    "# Proportion of UK customers\n",
    "\n"
   ]
  },
  {
   "cell_type": "code",
   "execution_count": 12,
   "metadata": {},
   "outputs": [
    {
     "data": {
      "text/plain": [
       "0.903476669716377"
      ]
     },
     "execution_count": 12,
     "metadata": {},
     "output_type": "execute_result"
    }
   ],
   "source": [
    "retail_df[retail_df[\"Country\"]==\"United Kingdom\"].CustomerID.nunique() / retail_df.CustomerID.nunique() \n"
   ]
  },
  {
   "cell_type": "markdown",
   "metadata": {},
   "source": [
    "# Observations:\n",
    "90% of the customers are from UK"
   ]
  },
  {
   "cell_type": "markdown",
   "metadata": {},
   "source": [
    "# Forming a sub-sample which includes only the customers from UK\n",
    "\n"
   ]
  },
  {
   "cell_type": "code",
   "execution_count": 13,
   "metadata": {},
   "outputs": [
    {
     "data": {
      "text/plain": [
       "(495478, 9)"
      ]
     },
     "execution_count": 13,
     "metadata": {},
     "output_type": "execute_result"
    }
   ],
   "source": [
    "retail_uk = retail_df[retail_df['Country']=='United Kingdom']\n",
    "retail_uk.shape"
   ]
  },
  {
   "cell_type": "markdown",
   "metadata": {},
   "source": [
    "# Removing canceled orders"
   ]
  },
  {
   "cell_type": "code",
   "execution_count": 14,
   "metadata": {},
   "outputs": [
    {
     "data": {
      "text/plain": [
       "(486286, 9)"
      ]
     },
     "execution_count": 14,
     "metadata": {},
     "output_type": "execute_result"
    }
   ],
   "source": [
    "\n",
    "retail_uk = retail_uk[retail_uk['Quantity']>0]\n",
    "retail_uk.shape\n"
   ]
  },
  {
   "cell_type": "markdown",
   "metadata": {},
   "source": [
    "# Removing rows where customerID are NA since going to do CUSTOMER SEGMENTATION\n",
    "\n"
   ]
  },
  {
   "cell_type": "code",
   "execution_count": 15,
   "metadata": {},
   "outputs": [
    {
     "data": {
      "text/plain": [
       "(354345, 9)"
      ]
     },
     "execution_count": 15,
     "metadata": {},
     "output_type": "execute_result"
    }
   ],
   "source": [
    "retail_uk.dropna(subset=['CustomerID'],how='all',inplace=True) \n",
    "\n",
    "retail_uk.shape\n"
   ]
  },
  {
   "cell_type": "markdown",
   "metadata": {},
   "source": [
    "# Average total quantity ordered by a customer"
   ]
  },
  {
   "cell_type": "code",
   "execution_count": 16,
   "metadata": {},
   "outputs": [
    {
     "data": {
      "text/plain": [
       "1088.87324662076"
      ]
     },
     "execution_count": 16,
     "metadata": {},
     "output_type": "execute_result"
    }
   ],
   "source": [
    "np.mean(retail_uk.groupby(\"CustomerID\").Quantity.sum())"
   ]
  },
  {
   "cell_type": "markdown",
   "metadata": {},
   "source": [
    "# Average total amount spent by a customer\n",
    "\n"
   ]
  },
  {
   "cell_type": "code",
   "execution_count": 17,
   "metadata": {},
   "outputs": [
    {
     "data": {
      "text/plain": [
       "1863.910113236418"
      ]
     },
     "execution_count": 17,
     "metadata": {},
     "output_type": "execute_result"
    }
   ],
   "source": [
    "np.mean(retail_uk.groupby(\"CustomerID\").Amount.sum())"
   ]
  },
  {
   "cell_type": "markdown",
   "metadata": {},
   "source": [
    "# Exploring the unique values of each attribute\n",
    "\n"
   ]
  },
  {
   "cell_type": "code",
   "execution_count": 18,
   "metadata": {},
   "outputs": [
    {
     "name": "stdout",
     "output_type": "stream",
     "text": [
      "Summary: \n",
      "Number of invoices:  16649\n",
      "Number of products bought:  3645\n",
      "Number of customers: 3921\n",
      "Average quantity of product purchased by a customer:  1089.0\n",
      "Average revenue generated per customer:  1863.91\n",
      "Average product quantity sold per transaction:  12.0\n",
      "Average revenue generated per transaction:  20.63\n"
     ]
    }
   ],
   "source": [
    "print(\"Summary: \")\n",
    "print(\"Number of invoices: \", retail_uk['InvoiceNo'].nunique())\n",
    "print(\"Number of products bought: \",retail_uk['StockCode'].nunique())\n",
    "print(\"Number of customers:\", retail_uk['CustomerID'].nunique() )\n",
    "print(\"Average quantity of product purchased by a customer: \", round(np.mean(retail_uk.groupby(\"CustomerID\").Quantity.sum()), 0))\n",
    "print(\"Average revenue generated per customer: \", round(np.mean(retail_uk.groupby(\"CustomerID\").Amount.sum()), 2))\n",
    "print(\"Average product quantity sold per transaction: \", round(retail_uk.Quantity.mean(), 0))\n",
    "print(\"Average revenue generated per transaction: \", round(retail_uk.Amount.mean(), 2) )"
   ]
  },
  {
   "cell_type": "code",
   "execution_count": 19,
   "metadata": {},
   "outputs": [
    {
     "data": {
      "image/png": "[encoded data removed]",
      "text/plain": [
       "<Figure size 720x432 with 1 Axes>"
      ]
     },
     "metadata": {
      "needs_background": "light"
     },
     "output_type": "display_data"
    }
   ],
   "source": [
    "\n",
    "\n",
    "# Summary data\n",
    "metrics = {\n",
    "    'Number of Invoices': 16649,\n",
    "    'Number of Products Bought': 2493,\n",
    "    'Number of Customers': 3921,\n",
    "    'Average Quantity per Customer': 167.0,\n",
    "    'Average Revenue per Customer (£)': 293.3,\n",
    "    'Average Quantity per Transaction': 39.0,\n",
    "    'Average Revenue per Transaction (£)': 69.07\n",
    "}\n",
    "\n",
    "# Create lists to store metric names and values\n",
    "metric_names = list(metrics.keys())\n",
    "metric_values = list(metrics.values())\n",
    "\n",
    "# Create a bar plot\n",
    "plt.figure(figsize=(10, 6))\n",
    "plt.barh(metric_names, metric_values, color='skyblue')\n",
    "plt.xlabel('Metrics')\n",
    "plt.ylabel('Values')\n",
    "plt.title('Summary Metrics')\n",
    "plt.gca().invert_yaxis()  # Invert y-axis to have the highest value at the top\n",
    "plt.grid(axis='x', linestyle='--', alpha=0.7)  # Add gridlines for better readability\n",
    "plt.show()\n"
   ]
  },
  {
   "cell_type": "markdown",
   "metadata": {},
   "source": [
    "The average revenue generated per customer (£293.3) suggests a decent level of customer loyalty or repeat business. Higher average revenue per customer often indicates stronger customer relationships and potential for upselling or cross-selling strategies."
   ]
  },
  {
   "cell_type": "markdown",
   "metadata": {},
   "source": [
    "# check for NaN's values to see if dataset is ready to go\n",
    "\n"
   ]
  },
  {
   "cell_type": "code",
   "execution_count": 20,
   "metadata": {},
   "outputs": [
    {
     "name": "stdout",
     "output_type": "stream",
     "text": [
      "<class 'pandas.core.frame.DataFrame'>\n",
      "Int64Index: 354345 entries, 0 to 541893\n",
      "Data columns (total 9 columns):\n",
      " #   Column       Non-Null Count   Dtype         \n",
      "---  ------       --------------   -----         \n",
      " 0   InvoiceNo    354345 non-null  object        \n",
      " 1   StockCode    354345 non-null  object        \n",
      " 2   Description  354345 non-null  object        \n",
      " 3   Quantity     354345 non-null  int64         \n",
      " 4   InvoiceDate  354345 non-null  datetime64[ns]\n",
      " 5   UnitPrice    354345 non-null  float64       \n",
      " 6   CustomerID   354345 non-null  object        \n",
      " 7   Country      354345 non-null  object        \n",
      " 8   Amount       354345 non-null  float64       \n",
      "dtypes: datetime64[ns](1), float64(2), int64(1), object(5)\n",
      "memory usage: 27.0+ MB\n"
     ]
    }
   ],
   "source": [
    "\n",
    "retail_uk.info()"
   ]
  },
  {
   "cell_type": "markdown",
   "metadata": {},
   "source": [
    "# Create a new column called date which contains the date of invoice only\n"
   ]
  },
  {
   "cell_type": "code",
   "execution_count": 21,
   "metadata": {},
   "outputs": [],
   "source": [
    "retail_uk['date'] = pd.DatetimeIndex(retail_uk['InvoiceDate']).date"
   ]
  },
  {
   "cell_type": "code",
   "execution_count": 22,
   "metadata": {},
   "outputs": [
    {
     "data": {
      "text/html": [
       "<div>\n",
       "<style scoped>\n",
       "    .dataframe tbody tr th:only-of-type {\n",
       "        vertical-align: middle;\n",
       "    }\n",
       "\n",
       "    .dataframe tbody tr th {\n",
       "        vertical-align: top;\n",
       "    }\n",
       "\n",
       "    .dataframe thead th {\n",
       "        text-align: right;\n",
       "    }\n",
       "</style>\n",
       "<table border=\"1\" class=\"dataframe\">\n",
       "  <thead>\n",
       "    <tr style=\"text-align: right;\">\n",
       "      <th></th>\n",
       "      <th>InvoiceNo</th>\n",
       "      <th>StockCode</th>\n",
       "      <th>Description</th>\n",
       "      <th>Quantity</th>\n",
       "      <th>InvoiceDate</th>\n",
       "      <th>UnitPrice</th>\n",
       "      <th>CustomerID</th>\n",
       "      <th>Country</th>\n",
       "      <th>Amount</th>\n",
       "      <th>date</th>\n",
       "    </tr>\n",
       "  </thead>\n",
       "  <tbody>\n",
       "    <tr>\n",
       "      <th>0</th>\n",
       "      <td>536365</td>\n",
       "      <td>85123A</td>\n",
       "      <td>WHITE HANGING HEART T-LIGHT HOLDER</td>\n",
       "      <td>6</td>\n",
       "      <td>2010-12-01 08:26:00</td>\n",
       "      <td>2.55</td>\n",
       "      <td>17850</td>\n",
       "      <td>United Kingdom</td>\n",
       "      <td>15.30</td>\n",
       "      <td>2010-12-01</td>\n",
       "    </tr>\n",
       "    <tr>\n",
       "      <th>1</th>\n",
       "      <td>536365</td>\n",
       "      <td>71053</td>\n",
       "      <td>WHITE METAL LANTERN</td>\n",
       "      <td>6</td>\n",
       "      <td>2010-12-01 08:26:00</td>\n",
       "      <td>3.39</td>\n",
       "      <td>17850</td>\n",
       "      <td>United Kingdom</td>\n",
       "      <td>20.34</td>\n",
       "      <td>2010-12-01</td>\n",
       "    </tr>\n",
       "    <tr>\n",
       "      <th>2</th>\n",
       "      <td>536365</td>\n",
       "      <td>84406B</td>\n",
       "      <td>CREAM CUPID HEARTS COAT HANGER</td>\n",
       "      <td>8</td>\n",
       "      <td>2010-12-01 08:26:00</td>\n",
       "      <td>2.75</td>\n",
       "      <td>17850</td>\n",
       "      <td>United Kingdom</td>\n",
       "      <td>22.00</td>\n",
       "      <td>2010-12-01</td>\n",
       "    </tr>\n",
       "    <tr>\n",
       "      <th>3</th>\n",
       "      <td>536365</td>\n",
       "      <td>84029G</td>\n",
       "      <td>KNITTED UNION FLAG HOT WATER BOTTLE</td>\n",
       "      <td>6</td>\n",
       "      <td>2010-12-01 08:26:00</td>\n",
       "      <td>3.39</td>\n",
       "      <td>17850</td>\n",
       "      <td>United Kingdom</td>\n",
       "      <td>20.34</td>\n",
       "      <td>2010-12-01</td>\n",
       "    </tr>\n",
       "    <tr>\n",
       "      <th>4</th>\n",
       "      <td>536365</td>\n",
       "      <td>84029E</td>\n",
       "      <td>RED WOOLLY HOTTIE WHITE HEART.</td>\n",
       "      <td>6</td>\n",
       "      <td>2010-12-01 08:26:00</td>\n",
       "      <td>3.39</td>\n",
       "      <td>17850</td>\n",
       "      <td>United Kingdom</td>\n",
       "      <td>20.34</td>\n",
       "      <td>2010-12-01</td>\n",
       "    </tr>\n",
       "  </tbody>\n",
       "</table>\n",
       "</div>"
      ],
      "text/plain": [
       "  InvoiceNo StockCode                          Description  Quantity  \\\n",
       "0    536365    85123A   WHITE HANGING HEART T-LIGHT HOLDER         6   \n",
       "1    536365     71053                  WHITE METAL LANTERN         6   \n",
       "2    536365    84406B       CREAM CUPID HEARTS COAT HANGER         8   \n",
       "3    536365    84029G  KNITTED UNION FLAG HOT WATER BOTTLE         6   \n",
       "4    536365    84029E       RED WOOLLY HOTTIE WHITE HEART.         6   \n",
       "\n",
       "          InvoiceDate  UnitPrice CustomerID         Country  Amount  \\\n",
       "0 2010-12-01 08:26:00       2.55      17850  United Kingdom   15.30   \n",
       "1 2010-12-01 08:26:00       3.39      17850  United Kingdom   20.34   \n",
       "2 2010-12-01 08:26:00       2.75      17850  United Kingdom   22.00   \n",
       "3 2010-12-01 08:26:00       3.39      17850  United Kingdom   20.34   \n",
       "4 2010-12-01 08:26:00       3.39      17850  United Kingdom   20.34   \n",
       "\n",
       "         date  \n",
       "0  2010-12-01  \n",
       "1  2010-12-01  \n",
       "2  2010-12-01  \n",
       "3  2010-12-01  \n",
       "4  2010-12-01  "
      ]
     },
     "execution_count": 22,
     "metadata": {},
     "output_type": "execute_result"
    }
   ],
   "source": [
    "retail_uk.head()\n"
   ]
  },
  {
   "cell_type": "code",
   "execution_count": 23,
   "metadata": {},
   "outputs": [
    {
     "data": {
      "text/plain": [
       "datetime.date(2010, 12, 1)"
      ]
     },
     "execution_count": 23,
     "metadata": {},
     "output_type": "execute_result"
    }
   ],
   "source": [
    "min(retail_uk['date'])"
   ]
  },
  {
   "cell_type": "code",
   "execution_count": 24,
   "metadata": {},
   "outputs": [
    {
     "data": {
      "text/plain": [
       "datetime.date(2011, 12, 9)"
      ]
     },
     "execution_count": 24,
     "metadata": {},
     "output_type": "execute_result"
    }
   ],
   "source": [
    "max(retail_uk['date'])"
   ]
  },
  {
   "cell_type": "code",
   "execution_count": 25,
   "metadata": {},
   "outputs": [],
   "source": [
    "retail_uk['date'] = pd.to_datetime(retail_uk['date'])"
   ]
  },
  {
   "cell_type": "code",
   "execution_count": 26,
   "metadata": {},
   "outputs": [
    {
     "name": "stdout",
     "output_type": "stream",
     "text": [
      "Frequency of transactions in each month:\n",
      "month\n",
      "January      18161\n",
      "February     17759\n",
      "March        24014\n",
      "April        20866\n",
      "May          25203\n",
      "June         23714\n",
      "July         23599\n",
      "August       23105\n",
      "September    35636\n",
      "October      43735\n",
      "November     58809\n",
      "December     39744\n",
      "dtype: int64\n"
     ]
    }
   ],
   "source": [
    "retail_uk['month'] = retail_uk['date'].dt.month\n",
    "\n",
    "# Group the DataFrame by the 'month' column and count the number of transactions in each month\n",
    "monthly_transaction_counts = retail_uk.groupby('month').size()\n",
    "\n",
    "# Optionally, you can convert the month number to month names for better readability\n",
    "# You can create a dictionary to map month numbers to month names\n",
    "month_names = {1: 'January', 2: 'February', 3: 'March', 4: 'April', 5: 'May', 6: 'June', 7: 'July', 8: 'August', 9: 'September', 10: 'October', 11: 'November', 12: 'December'}\n",
    "\n",
    "# Map month numbers to month names\n",
    "monthly_transaction_counts.index = monthly_transaction_counts.index.map(month_names)\n",
    "\n",
    "print(\"Frequency of transactions in each month:\")\n",
    "print(monthly_transaction_counts)"
   ]
  },
  {
   "cell_type": "code",
   "execution_count": 27,
   "metadata": {},
   "outputs": [
    {
     "name": "stdout",
     "output_type": "stream",
     "text": [
      "Frequency of transactions in each month and year (sorted):\n",
      "year_month\n",
      "Apr 2011    20866\n",
      "Aug 2011    23105\n",
      "Dec 2010    23943\n",
      "Dec 2011    15801\n",
      "Feb 2011    17759\n",
      "Jan 2011    18161\n",
      "Jul 2011    23599\n",
      "Jun 2011    23714\n",
      "Mar 2011    24014\n",
      "May 2011    25203\n",
      "Nov 2011    58809\n",
      "Oct 2011    43735\n",
      "Sep 2011    35636\n",
      "dtype: int64\n"
     ]
    }
   ],
   "source": [
    "retail_uk['date'] = pd.to_datetime(retail_uk['date'])\n",
    "\n",
    "# Extract month and year from the date column\n",
    "retail_uk['year_month'] = retail_uk['date'].dt.strftime('%b %Y')\n",
    "\n",
    "# Group the DataFrame by the 'year_month' column and count the number of transactions in each month-year combination\n",
    "monthly_transaction_counts = retail_uk.groupby('year_month').size()\n",
    "\n",
    "# Sort the data month and year-wise\n",
    "monthly_transaction_counts = monthly_transaction_counts.sort_index()\n",
    "\n",
    "print(\"Frequency of transactions in each month and year (sorted):\")\n",
    "print(monthly_transaction_counts)"
   ]
  },
  {
   "cell_type": "markdown",
   "metadata": {},
   "source": [
    "We can see that in nov the amount of orders has been the highest\n",
    "\n"
   ]
  },
  {
   "cell_type": "code",
   "execution_count": 28,
   "metadata": {},
   "outputs": [
    {
     "data": {
      "image/png": "[encoded data removed]",
      "text/plain": [
       "<Figure size 864x432 with 1 Axes>"
      ]
     },
     "metadata": {
      "needs_background": "light"
     },
     "output_type": "display_data"
    }
   ],
   "source": [
    "plt.figure(figsize=(12, 6))\n",
    "monthly_transaction_counts.plot(kind='bar', color='skyblue')\n",
    "plt.title('Frequency of Transactions by Month and Year')\n",
    "plt.xlabel('Month and Year')\n",
    "plt.ylabel('Frequency')\n",
    "plt.xticks(rotation=45, ha='right')  # Rotate x-axis labels for better readability\n",
    "plt.tight_layout()\n",
    "plt.show()"
   ]
  },
  {
   "cell_type": "markdown",
   "metadata": {},
   "source": [
    "# CREATING RECENCY DATAFRAME\n",
    "group by customers and check the last date of purchase"
   ]
  },
  {
   "cell_type": "code",
   "execution_count": 29,
   "metadata": {},
   "outputs": [
    {
     "data": {
      "text/html": [
       "<div>\n",
       "<style scoped>\n",
       "    .dataframe tbody tr th:only-of-type {\n",
       "        vertical-align: middle;\n",
       "    }\n",
       "\n",
       "    .dataframe tbody tr th {\n",
       "        vertical-align: top;\n",
       "    }\n",
       "\n",
       "    .dataframe thead th {\n",
       "        text-align: right;\n",
       "    }\n",
       "</style>\n",
       "<table border=\"1\" class=\"dataframe\">\n",
       "  <thead>\n",
       "    <tr style=\"text-align: right;\">\n",
       "      <th></th>\n",
       "      <th>CustomerID</th>\n",
       "      <th>LastPurshaceDate</th>\n",
       "    </tr>\n",
       "  </thead>\n",
       "  <tbody>\n",
       "    <tr>\n",
       "      <th>0</th>\n",
       "      <td>12346</td>\n",
       "      <td>2011-01-18</td>\n",
       "    </tr>\n",
       "    <tr>\n",
       "      <th>1</th>\n",
       "      <td>12747</td>\n",
       "      <td>2011-12-07</td>\n",
       "    </tr>\n",
       "    <tr>\n",
       "      <th>2</th>\n",
       "      <td>12748</td>\n",
       "      <td>2011-12-09</td>\n",
       "    </tr>\n",
       "    <tr>\n",
       "      <th>3</th>\n",
       "      <td>12749</td>\n",
       "      <td>2011-12-06</td>\n",
       "    </tr>\n",
       "    <tr>\n",
       "      <th>4</th>\n",
       "      <td>12820</td>\n",
       "      <td>2011-12-06</td>\n",
       "    </tr>\n",
       "    <tr>\n",
       "      <th>5</th>\n",
       "      <td>12821</td>\n",
       "      <td>2011-05-09</td>\n",
       "    </tr>\n",
       "    <tr>\n",
       "      <th>6</th>\n",
       "      <td>12822</td>\n",
       "      <td>2011-09-30</td>\n",
       "    </tr>\n",
       "    <tr>\n",
       "      <th>7</th>\n",
       "      <td>12823</td>\n",
       "      <td>2011-09-26</td>\n",
       "    </tr>\n",
       "    <tr>\n",
       "      <th>8</th>\n",
       "      <td>12824</td>\n",
       "      <td>2011-10-11</td>\n",
       "    </tr>\n",
       "    <tr>\n",
       "      <th>9</th>\n",
       "      <td>12826</td>\n",
       "      <td>2011-12-07</td>\n",
       "    </tr>\n",
       "    <tr>\n",
       "      <th>10</th>\n",
       "      <td>12827</td>\n",
       "      <td>2011-12-04</td>\n",
       "    </tr>\n",
       "    <tr>\n",
       "      <th>11</th>\n",
       "      <td>12828</td>\n",
       "      <td>2011-12-07</td>\n",
       "    </tr>\n",
       "    <tr>\n",
       "      <th>12</th>\n",
       "      <td>12829</td>\n",
       "      <td>2011-01-07</td>\n",
       "    </tr>\n",
       "    <tr>\n",
       "      <th>13</th>\n",
       "      <td>12830</td>\n",
       "      <td>2011-11-02</td>\n",
       "    </tr>\n",
       "    <tr>\n",
       "      <th>14</th>\n",
       "      <td>12831</td>\n",
       "      <td>2011-03-22</td>\n",
       "    </tr>\n",
       "    <tr>\n",
       "      <th>15</th>\n",
       "      <td>12832</td>\n",
       "      <td>2011-11-07</td>\n",
       "    </tr>\n",
       "    <tr>\n",
       "      <th>16</th>\n",
       "      <td>12833</td>\n",
       "      <td>2011-07-17</td>\n",
       "    </tr>\n",
       "    <tr>\n",
       "      <th>17</th>\n",
       "      <td>12834</td>\n",
       "      <td>2011-03-02</td>\n",
       "    </tr>\n",
       "    <tr>\n",
       "      <th>18</th>\n",
       "      <td>12836</td>\n",
       "      <td>2011-10-11</td>\n",
       "    </tr>\n",
       "    <tr>\n",
       "      <th>19</th>\n",
       "      <td>12837</td>\n",
       "      <td>2011-06-19</td>\n",
       "    </tr>\n",
       "  </tbody>\n",
       "</table>\n",
       "</div>"
      ],
      "text/plain": [
       "   CustomerID LastPurshaceDate\n",
       "0       12346       2011-01-18\n",
       "1       12747       2011-12-07\n",
       "2       12748       2011-12-09\n",
       "3       12749       2011-12-06\n",
       "4       12820       2011-12-06\n",
       "5       12821       2011-05-09\n",
       "6       12822       2011-09-30\n",
       "7       12823       2011-09-26\n",
       "8       12824       2011-10-11\n",
       "9       12826       2011-12-07\n",
       "10      12827       2011-12-04\n",
       "11      12828       2011-12-07\n",
       "12      12829       2011-01-07\n",
       "13      12830       2011-11-02\n",
       "14      12831       2011-03-22\n",
       "15      12832       2011-11-07\n",
       "16      12833       2011-07-17\n",
       "17      12834       2011-03-02\n",
       "18      12836       2011-10-11\n",
       "19      12837       2011-06-19"
      ]
     },
     "execution_count": 29,
     "metadata": {},
     "output_type": "execute_result"
    }
   ],
   "source": [
    "\n",
    "recency_df = retail_uk.groupby(by='CustomerID', as_index=False)['date'].max()\n",
    "recency_df.columns = ['CustomerID','LastPurshaceDate']\n",
    "recency_df.head(20)\n"
   ]
  },
  {
   "cell_type": "markdown",
   "metadata": {},
   "source": [
    "# Calculating recency"
   ]
  },
  {
   "cell_type": "code",
   "execution_count": 30,
   "metadata": {},
   "outputs": [
    {
     "name": "stdout",
     "output_type": "stream",
     "text": [
      "     CustomerID LastPurshaceDate  Recency\n",
      "0         12346       2011-01-18      325\n",
      "1         12747       2011-12-07        2\n",
      "2         12748       2011-12-09        0\n",
      "3         12749       2011-12-06        3\n",
      "4         12820       2011-12-06        3\n",
      "...         ...              ...      ...\n",
      "3916      18280       2011-03-07      277\n",
      "3917      18281       2011-06-12      180\n",
      "3918      18282       2011-12-02        7\n",
      "3919      18283       2011-12-06        3\n",
      "3920      18287       2011-10-28       42\n",
      "\n",
      "[3921 rows x 3 columns]\n"
     ]
    }
   ],
   "source": [
    "now = dt.date(2011,12,9)\n",
    "now = pd.Timestamp('2011-12-9')\n",
    "\n",
    "# Calculate recency in days\n",
    "recency_df['Recency'] = (now - recency_df['LastPurshaceDate']).dt.days\n",
    "\n",
    "# Print the DataFrame to verify the result\n",
    "print(recency_df)\n",
    "\n"
   ]
  },
  {
   "cell_type": "code",
   "execution_count": 31,
   "metadata": {},
   "outputs": [
    {
     "data": {
      "text/html": [
       "<div>\n",
       "<style scoped>\n",
       "    .dataframe tbody tr th:only-of-type {\n",
       "        vertical-align: middle;\n",
       "    }\n",
       "\n",
       "    .dataframe tbody tr th {\n",
       "        vertical-align: top;\n",
       "    }\n",
       "\n",
       "    .dataframe thead th {\n",
       "        text-align: right;\n",
       "    }\n",
       "</style>\n",
       "<table border=\"1\" class=\"dataframe\">\n",
       "  <thead>\n",
       "    <tr style=\"text-align: right;\">\n",
       "      <th></th>\n",
       "      <th>CustomerID</th>\n",
       "      <th>LastPurshaceDate</th>\n",
       "      <th>Recency</th>\n",
       "    </tr>\n",
       "  </thead>\n",
       "  <tbody>\n",
       "    <tr>\n",
       "      <th>0</th>\n",
       "      <td>12346</td>\n",
       "      <td>2011-01-18</td>\n",
       "      <td>325</td>\n",
       "    </tr>\n",
       "    <tr>\n",
       "      <th>1</th>\n",
       "      <td>12747</td>\n",
       "      <td>2011-12-07</td>\n",
       "      <td>2</td>\n",
       "    </tr>\n",
       "    <tr>\n",
       "      <th>2</th>\n",
       "      <td>12748</td>\n",
       "      <td>2011-12-09</td>\n",
       "      <td>0</td>\n",
       "    </tr>\n",
       "    <tr>\n",
       "      <th>3</th>\n",
       "      <td>12749</td>\n",
       "      <td>2011-12-06</td>\n",
       "      <td>3</td>\n",
       "    </tr>\n",
       "    <tr>\n",
       "      <th>4</th>\n",
       "      <td>12820</td>\n",
       "      <td>2011-12-06</td>\n",
       "      <td>3</td>\n",
       "    </tr>\n",
       "  </tbody>\n",
       "</table>\n",
       "</div>"
      ],
      "text/plain": [
       "  CustomerID LastPurshaceDate  Recency\n",
       "0      12346       2011-01-18      325\n",
       "1      12747       2011-12-07        2\n",
       "2      12748       2011-12-09        0\n",
       "3      12749       2011-12-06        3\n",
       "4      12820       2011-12-06        3"
      ]
     },
     "execution_count": 31,
     "metadata": {},
     "output_type": "execute_result"
    }
   ],
   "source": [
    "recency_df.head()"
   ]
  },
  {
   "cell_type": "markdown",
   "metadata": {},
   "source": [
    "This calculation will result in the 'Recency' column containing the number of days between the last purchase date for each customer and December 9, 2011 (the now date). This metric represents how recent each customer's last purchase was relative to the specified date."
   ]
  },
  {
   "cell_type": "markdown",
   "metadata": {},
   "source": [
    "# Droping LastPurchaseDate as it is not needed anymore\n"
   ]
  },
  {
   "cell_type": "code",
   "execution_count": 32,
   "metadata": {},
   "outputs": [],
   "source": [
    "recency_df.drop('LastPurshaceDate',axis=1,inplace=True)"
   ]
  },
  {
   "cell_type": "markdown",
   "metadata": {},
   "source": [
    "# CREATING FREQUENCY DATAFRAME\n",
    "droping duplicates"
   ]
  },
  {
   "cell_type": "code",
   "execution_count": 33,
   "metadata": {},
   "outputs": [
    {
     "data": {
      "text/plain": [
       "(354345, 12)"
      ]
     },
     "execution_count": 33,
     "metadata": {},
     "output_type": "execute_result"
    }
   ],
   "source": [
    "retail_uk.shape"
   ]
  },
  {
   "cell_type": "code",
   "execution_count": 34,
   "metadata": {},
   "outputs": [
    {
     "name": "stdout",
     "output_type": "stream",
     "text": [
      "       InvoiceNo StockCode                          Description  Quantity  \\\n",
      "0         536365    85123A   WHITE HANGING HEART T-LIGHT HOLDER         6   \n",
      "1         536365     71053                  WHITE METAL LANTERN         6   \n",
      "2         536365    84406B       CREAM CUPID HEARTS COAT HANGER         8   \n",
      "3         536365    84029G  KNITTED UNION FLAG HOT WATER BOTTLE         6   \n",
      "4         536365    84029E       RED WOOLLY HOTTIE WHITE HEART.         6   \n",
      "...          ...       ...                                  ...       ...   \n",
      "541889    581585     22466       FAIRY TALE COTTAGE NIGHT LIGHT        12   \n",
      "541890    581586     22061  LARGE CAKE STAND  HANGING STRAWBERY         8   \n",
      "541891    581586     23275     SET OF 3 HANGING OWLS OLLIE BEAK        24   \n",
      "541892    581586     21217        RED RETROSPOT ROUND CAKE TINS        24   \n",
      "541893    581586     20685                DOORMAT RED RETROSPOT        10   \n",
      "\n",
      "               InvoiceDate  UnitPrice CustomerID         Country  Amount  \\\n",
      "0      2010-12-01 08:26:00       2.55      17850  United Kingdom   15.30   \n",
      "1      2010-12-01 08:26:00       3.39      17850  United Kingdom   20.34   \n",
      "2      2010-12-01 08:26:00       2.75      17850  United Kingdom   22.00   \n",
      "3      2010-12-01 08:26:00       3.39      17850  United Kingdom   20.34   \n",
      "4      2010-12-01 08:26:00       3.39      17850  United Kingdom   20.34   \n",
      "...                    ...        ...        ...             ...     ...   \n",
      "541889 2011-12-09 12:31:00       1.95      15804  United Kingdom   23.40   \n",
      "541890 2011-12-09 12:49:00       2.95      13113  United Kingdom   23.60   \n",
      "541891 2011-12-09 12:49:00       1.25      13113  United Kingdom   30.00   \n",
      "541892 2011-12-09 12:49:00       8.95      13113  United Kingdom  214.80   \n",
      "541893 2011-12-09 12:49:00       7.08      13113  United Kingdom   70.80   \n",
      "\n",
      "             date  month year_month  \n",
      "0      2010-12-01     12   Dec 2010  \n",
      "1      2010-12-01     12   Dec 2010  \n",
      "2      2010-12-01     12   Dec 2010  \n",
      "3      2010-12-01     12   Dec 2010  \n",
      "4      2010-12-01     12   Dec 2010  \n",
      "...           ...    ...        ...  \n",
      "541889 2011-12-09     12   Dec 2011  \n",
      "541890 2011-12-09     12   Dec 2011  \n",
      "541891 2011-12-09     12   Dec 2011  \n",
      "541892 2011-12-09     12   Dec 2011  \n",
      "541893 2011-12-09     12   Dec 2011  \n",
      "\n",
      "[353082 rows x 12 columns]\n"
     ]
    }
   ],
   "source": [
    "# Assuming retail_uk is the DataFrame name\n",
    "duplicate_transactions = retail_uk[retail_uk.duplicated(subset=['CustomerID', 'InvoiceNo'], keep=False)]\n",
    "\n",
    "# Display the duplicate transactions\n",
    "print(duplicate_transactions)\n"
   ]
  },
  {
   "cell_type": "code",
   "execution_count": 35,
   "metadata": {},
   "outputs": [
    {
     "data": {
      "text/html": [
       "<div>\n",
       "<style scoped>\n",
       "    .dataframe tbody tr th:only-of-type {\n",
       "        vertical-align: middle;\n",
       "    }\n",
       "\n",
       "    .dataframe tbody tr th {\n",
       "        vertical-align: top;\n",
       "    }\n",
       "\n",
       "    .dataframe thead th {\n",
       "        text-align: right;\n",
       "    }\n",
       "</style>\n",
       "<table border=\"1\" class=\"dataframe\">\n",
       "  <thead>\n",
       "    <tr style=\"text-align: right;\">\n",
       "      <th></th>\n",
       "      <th>InvoiceNo</th>\n",
       "      <th>StockCode</th>\n",
       "      <th>Description</th>\n",
       "      <th>Quantity</th>\n",
       "      <th>InvoiceDate</th>\n",
       "      <th>UnitPrice</th>\n",
       "      <th>CustomerID</th>\n",
       "      <th>Country</th>\n",
       "      <th>Amount</th>\n",
       "      <th>date</th>\n",
       "      <th>month</th>\n",
       "      <th>year_month</th>\n",
       "      <th>ProductCount</th>\n",
       "    </tr>\n",
       "  </thead>\n",
       "  <tbody>\n",
       "    <tr>\n",
       "      <th>0</th>\n",
       "      <td>536365</td>\n",
       "      <td>85123A</td>\n",
       "      <td>WHITE HANGING HEART T-LIGHT HOLDER</td>\n",
       "      <td>6</td>\n",
       "      <td>2010-12-01 08:26:00</td>\n",
       "      <td>2.55</td>\n",
       "      <td>17850</td>\n",
       "      <td>United Kingdom</td>\n",
       "      <td>15.30</td>\n",
       "      <td>2010-12-01</td>\n",
       "      <td>12</td>\n",
       "      <td>Dec 2010</td>\n",
       "      <td>7</td>\n",
       "    </tr>\n",
       "    <tr>\n",
       "      <th>7</th>\n",
       "      <td>536366</td>\n",
       "      <td>22633</td>\n",
       "      <td>HAND WARMER UNION JACK</td>\n",
       "      <td>6</td>\n",
       "      <td>2010-12-01 08:28:00</td>\n",
       "      <td>1.85</td>\n",
       "      <td>17850</td>\n",
       "      <td>United Kingdom</td>\n",
       "      <td>11.10</td>\n",
       "      <td>2010-12-01</td>\n",
       "      <td>12</td>\n",
       "      <td>Dec 2010</td>\n",
       "      <td>2</td>\n",
       "    </tr>\n",
       "    <tr>\n",
       "      <th>9</th>\n",
       "      <td>536367</td>\n",
       "      <td>84879</td>\n",
       "      <td>ASSORTED COLOUR BIRD ORNAMENT</td>\n",
       "      <td>32</td>\n",
       "      <td>2010-12-01 08:34:00</td>\n",
       "      <td>1.69</td>\n",
       "      <td>13047</td>\n",
       "      <td>United Kingdom</td>\n",
       "      <td>54.08</td>\n",
       "      <td>2010-12-01</td>\n",
       "      <td>12</td>\n",
       "      <td>Dec 2010</td>\n",
       "      <td>12</td>\n",
       "    </tr>\n",
       "    <tr>\n",
       "      <th>21</th>\n",
       "      <td>536368</td>\n",
       "      <td>22960</td>\n",
       "      <td>JAM MAKING SET WITH JARS</td>\n",
       "      <td>6</td>\n",
       "      <td>2010-12-01 08:34:00</td>\n",
       "      <td>4.25</td>\n",
       "      <td>13047</td>\n",
       "      <td>United Kingdom</td>\n",
       "      <td>25.50</td>\n",
       "      <td>2010-12-01</td>\n",
       "      <td>12</td>\n",
       "      <td>Dec 2010</td>\n",
       "      <td>4</td>\n",
       "    </tr>\n",
       "    <tr>\n",
       "      <th>25</th>\n",
       "      <td>536369</td>\n",
       "      <td>21756</td>\n",
       "      <td>BATH BUILDING BLOCK WORD</td>\n",
       "      <td>3</td>\n",
       "      <td>2010-12-01 08:35:00</td>\n",
       "      <td>5.95</td>\n",
       "      <td>13047</td>\n",
       "      <td>United Kingdom</td>\n",
       "      <td>17.85</td>\n",
       "      <td>2010-12-01</td>\n",
       "      <td>12</td>\n",
       "      <td>Dec 2010</td>\n",
       "      <td>1</td>\n",
       "    </tr>\n",
       "    <tr>\n",
       "      <th>...</th>\n",
       "      <td>...</td>\n",
       "      <td>...</td>\n",
       "      <td>...</td>\n",
       "      <td>...</td>\n",
       "      <td>...</td>\n",
       "      <td>...</td>\n",
       "      <td>...</td>\n",
       "      <td>...</td>\n",
       "      <td>...</td>\n",
       "      <td>...</td>\n",
       "      <td>...</td>\n",
       "      <td>...</td>\n",
       "      <td>...</td>\n",
       "    </tr>\n",
       "    <tr>\n",
       "      <th>541863</th>\n",
       "      <td>581582</td>\n",
       "      <td>23552</td>\n",
       "      <td>BICYCLE PUNCTURE REPAIR KIT</td>\n",
       "      <td>6</td>\n",
       "      <td>2011-12-09 12:21:00</td>\n",
       "      <td>2.08</td>\n",
       "      <td>17581</td>\n",
       "      <td>United Kingdom</td>\n",
       "      <td>12.48</td>\n",
       "      <td>2011-12-09</td>\n",
       "      <td>12</td>\n",
       "      <td>Dec 2011</td>\n",
       "      <td>2</td>\n",
       "    </tr>\n",
       "    <tr>\n",
       "      <th>541865</th>\n",
       "      <td>581583</td>\n",
       "      <td>20725</td>\n",
       "      <td>LUNCH BAG RED RETROSPOT</td>\n",
       "      <td>40</td>\n",
       "      <td>2011-12-09 12:23:00</td>\n",
       "      <td>1.45</td>\n",
       "      <td>13777</td>\n",
       "      <td>United Kingdom</td>\n",
       "      <td>58.00</td>\n",
       "      <td>2011-12-09</td>\n",
       "      <td>12</td>\n",
       "      <td>Dec 2011</td>\n",
       "      <td>2</td>\n",
       "    </tr>\n",
       "    <tr>\n",
       "      <th>541867</th>\n",
       "      <td>581584</td>\n",
       "      <td>20832</td>\n",
       "      <td>RED FLOCK LOVE HEART PHOTO FRAME</td>\n",
       "      <td>72</td>\n",
       "      <td>2011-12-09 12:25:00</td>\n",
       "      <td>0.72</td>\n",
       "      <td>13777</td>\n",
       "      <td>United Kingdom</td>\n",
       "      <td>51.84</td>\n",
       "      <td>2011-12-09</td>\n",
       "      <td>12</td>\n",
       "      <td>Dec 2011</td>\n",
       "      <td>2</td>\n",
       "    </tr>\n",
       "    <tr>\n",
       "      <th>541869</th>\n",
       "      <td>581585</td>\n",
       "      <td>22481</td>\n",
       "      <td>BLACK TEA TOWEL CLASSIC DESIGN</td>\n",
       "      <td>12</td>\n",
       "      <td>2011-12-09 12:31:00</td>\n",
       "      <td>0.39</td>\n",
       "      <td>15804</td>\n",
       "      <td>United Kingdom</td>\n",
       "      <td>4.68</td>\n",
       "      <td>2011-12-09</td>\n",
       "      <td>12</td>\n",
       "      <td>Dec 2011</td>\n",
       "      <td>21</td>\n",
       "    </tr>\n",
       "    <tr>\n",
       "      <th>541890</th>\n",
       "      <td>581586</td>\n",
       "      <td>22061</td>\n",
       "      <td>LARGE CAKE STAND  HANGING STRAWBERY</td>\n",
       "      <td>8</td>\n",
       "      <td>2011-12-09 12:49:00</td>\n",
       "      <td>2.95</td>\n",
       "      <td>13113</td>\n",
       "      <td>United Kingdom</td>\n",
       "      <td>23.60</td>\n",
       "      <td>2011-12-09</td>\n",
       "      <td>12</td>\n",
       "      <td>Dec 2011</td>\n",
       "      <td>4</td>\n",
       "    </tr>\n",
       "  </tbody>\n",
       "</table>\n",
       "<p>16649 rows × 13 columns</p>\n",
       "</div>"
      ],
      "text/plain": [
       "       InvoiceNo StockCode                          Description  Quantity  \\\n",
       "0         536365    85123A   WHITE HANGING HEART T-LIGHT HOLDER         6   \n",
       "7         536366     22633               HAND WARMER UNION JACK         6   \n",
       "9         536367     84879        ASSORTED COLOUR BIRD ORNAMENT        32   \n",
       "21        536368     22960             JAM MAKING SET WITH JARS         6   \n",
       "25        536369     21756             BATH BUILDING BLOCK WORD         3   \n",
       "...          ...       ...                                  ...       ...   \n",
       "541863    581582     23552         BICYCLE PUNCTURE REPAIR KIT          6   \n",
       "541865    581583     20725              LUNCH BAG RED RETROSPOT        40   \n",
       "541867    581584     20832     RED FLOCK LOVE HEART PHOTO FRAME        72   \n",
       "541869    581585     22481       BLACK TEA TOWEL CLASSIC DESIGN        12   \n",
       "541890    581586     22061  LARGE CAKE STAND  HANGING STRAWBERY         8   \n",
       "\n",
       "               InvoiceDate  UnitPrice CustomerID         Country  Amount  \\\n",
       "0      2010-12-01 08:26:00       2.55      17850  United Kingdom   15.30   \n",
       "7      2010-12-01 08:28:00       1.85      17850  United Kingdom   11.10   \n",
       "9      2010-12-01 08:34:00       1.69      13047  United Kingdom   54.08   \n",
       "21     2010-12-01 08:34:00       4.25      13047  United Kingdom   25.50   \n",
       "25     2010-12-01 08:35:00       5.95      13047  United Kingdom   17.85   \n",
       "...                    ...        ...        ...             ...     ...   \n",
       "541863 2011-12-09 12:21:00       2.08      17581  United Kingdom   12.48   \n",
       "541865 2011-12-09 12:23:00       1.45      13777  United Kingdom   58.00   \n",
       "541867 2011-12-09 12:25:00       0.72      13777  United Kingdom   51.84   \n",
       "541869 2011-12-09 12:31:00       0.39      15804  United Kingdom    4.68   \n",
       "541890 2011-12-09 12:49:00       2.95      13113  United Kingdom   23.60   \n",
       "\n",
       "             date  month year_month  ProductCount  \n",
       "0      2010-12-01     12   Dec 2010             7  \n",
       "7      2010-12-01     12   Dec 2010             2  \n",
       "9      2010-12-01     12   Dec 2010            12  \n",
       "21     2010-12-01     12   Dec 2010             4  \n",
       "25     2010-12-01     12   Dec 2010             1  \n",
       "...           ...    ...        ...           ...  \n",
       "541863 2011-12-09     12   Dec 2011             2  \n",
       "541865 2011-12-09     12   Dec 2011             2  \n",
       "541867 2011-12-09     12   Dec 2011             2  \n",
       "541869 2011-12-09     12   Dec 2011            21  \n",
       "541890 2011-12-09     12   Dec 2011             4  \n",
       "\n",
       "[16649 rows x 13 columns]"
      ]
     },
     "execution_count": 35,
     "metadata": {},
     "output_type": "execute_result"
    }
   ],
   "source": [
    "import pandas as pd\n",
    "\n",
    "# Assuming retail_uk is the DataFrame name\n",
    "# Calculate the count of products for each transaction\n",
    "retail_uk['ProductCount'] = retail_uk.groupby(['CustomerID', 'InvoiceNo'])['StockCode'].transform('count')\n",
    "\n",
    "# Filter out duplicate transactions\n",
    "filtered_retail_uk = retail_uk.drop_duplicates(subset=['CustomerID', 'InvoiceNo'])\n",
    "\n",
    "# Display the filtered DataFrame\n",
    "filtered_retail_uk\n"
   ]
  },
  {
   "cell_type": "code",
   "execution_count": 36,
   "metadata": {},
   "outputs": [
    {
     "data": {
      "text/plain": [
       "(16649, 13)"
      ]
     },
     "execution_count": 36,
     "metadata": {},
     "output_type": "execute_result"
    }
   ],
   "source": [
    "filtered_retail_uk.shape"
   ]
  },
  {
   "cell_type": "markdown",
   "metadata": {},
   "source": [
    "After executing this code, the filtered_retail_uk DataFrame will contain only unique combinations of 'InvoiceNo' and 'CustomerID', effectively removing duplicate transactions associated with the same customer invoice.\n",
    "\n",
    "\n",
    "\n",
    "\n",
    "\n",
    "\n"
   ]
  },
  {
   "cell_type": "markdown",
   "metadata": {},
   "source": [
    "# Calculating frequency of purchases\n",
    "\n"
   ]
  },
  {
   "cell_type": "code",
   "execution_count": 37,
   "metadata": {},
   "outputs": [
    {
     "data": {
      "text/html": [
       "<div>\n",
       "<style scoped>\n",
       "    .dataframe tbody tr th:only-of-type {\n",
       "        vertical-align: middle;\n",
       "    }\n",
       "\n",
       "    .dataframe tbody tr th {\n",
       "        vertical-align: top;\n",
       "    }\n",
       "\n",
       "    .dataframe thead th {\n",
       "        text-align: right;\n",
       "    }\n",
       "</style>\n",
       "<table border=\"1\" class=\"dataframe\">\n",
       "  <thead>\n",
       "    <tr style=\"text-align: right;\">\n",
       "      <th></th>\n",
       "      <th>CustomerID</th>\n",
       "      <th>Frequency</th>\n",
       "    </tr>\n",
       "  </thead>\n",
       "  <tbody>\n",
       "    <tr>\n",
       "      <th>0</th>\n",
       "      <td>12346</td>\n",
       "      <td>1</td>\n",
       "    </tr>\n",
       "    <tr>\n",
       "      <th>1</th>\n",
       "      <td>12747</td>\n",
       "      <td>11</td>\n",
       "    </tr>\n",
       "    <tr>\n",
       "      <th>2</th>\n",
       "      <td>12748</td>\n",
       "      <td>210</td>\n",
       "    </tr>\n",
       "    <tr>\n",
       "      <th>3</th>\n",
       "      <td>12749</td>\n",
       "      <td>5</td>\n",
       "    </tr>\n",
       "    <tr>\n",
       "      <th>4</th>\n",
       "      <td>12820</td>\n",
       "      <td>4</td>\n",
       "    </tr>\n",
       "  </tbody>\n",
       "</table>\n",
       "</div>"
      ],
      "text/plain": [
       "  CustomerID  Frequency\n",
       "0      12346          1\n",
       "1      12747         11\n",
       "2      12748        210\n",
       "3      12749          5\n",
       "4      12820          4"
      ]
     },
     "execution_count": 37,
     "metadata": {},
     "output_type": "execute_result"
    }
   ],
   "source": [
    "frequency_df = filtered_retail_uk.groupby(by=['CustomerID'], as_index=False)['InvoiceNo'].count()\n",
    "frequency_df.columns = ['CustomerID','Frequency']\n",
    "frequency_df.head()"
   ]
  },
  {
   "cell_type": "code",
   "execution_count": 38,
   "metadata": {},
   "outputs": [
    {
     "name": "stdout",
     "output_type": "stream",
     "text": [
      "<class 'pandas.core.frame.DataFrame'>\n",
      "Int64Index: 16649 entries, 0 to 541890\n",
      "Data columns (total 13 columns):\n",
      " #   Column        Non-Null Count  Dtype         \n",
      "---  ------        --------------  -----         \n",
      " 0   InvoiceNo     16649 non-null  object        \n",
      " 1   StockCode     16649 non-null  object        \n",
      " 2   Description   16649 non-null  object        \n",
      " 3   Quantity      16649 non-null  int64         \n",
      " 4   InvoiceDate   16649 non-null  datetime64[ns]\n",
      " 5   UnitPrice     16649 non-null  float64       \n",
      " 6   CustomerID    16649 non-null  object        \n",
      " 7   Country       16649 non-null  object        \n",
      " 8   Amount        16649 non-null  float64       \n",
      " 9   date          16649 non-null  datetime64[ns]\n",
      " 10  month         16649 non-null  int64         \n",
      " 11  year_month    16649 non-null  object        \n",
      " 12  ProductCount  16649 non-null  int64         \n",
      "dtypes: datetime64[ns](2), float64(2), int64(3), object(6)\n",
      "memory usage: 1.8+ MB\n"
     ]
    }
   ],
   "source": [
    "filtered_retail_uk.info()\n"
   ]
  },
  {
   "cell_type": "markdown",
   "metadata": {},
   "source": [
    "# Amount spent by each individual customer"
   ]
  },
  {
   "cell_type": "code",
   "execution_count": 39,
   "metadata": {},
   "outputs": [
    {
     "data": {
      "text/html": [
       "<div>\n",
       "<style scoped>\n",
       "    .dataframe tbody tr th:only-of-type {\n",
       "        vertical-align: middle;\n",
       "    }\n",
       "\n",
       "    .dataframe tbody tr th {\n",
       "        vertical-align: top;\n",
       "    }\n",
       "\n",
       "    .dataframe thead th {\n",
       "        text-align: right;\n",
       "    }\n",
       "</style>\n",
       "<table border=\"1\" class=\"dataframe\">\n",
       "  <thead>\n",
       "    <tr style=\"text-align: right;\">\n",
       "      <th></th>\n",
       "      <th>CustomerID</th>\n",
       "      <th>Monetary</th>\n",
       "    </tr>\n",
       "  </thead>\n",
       "  <tbody>\n",
       "    <tr>\n",
       "      <th>0</th>\n",
       "      <td>12346</td>\n",
       "      <td>77183.60</td>\n",
       "    </tr>\n",
       "    <tr>\n",
       "      <th>1</th>\n",
       "      <td>12747</td>\n",
       "      <td>4196.01</td>\n",
       "    </tr>\n",
       "    <tr>\n",
       "      <th>2</th>\n",
       "      <td>12748</td>\n",
       "      <td>33719.73</td>\n",
       "    </tr>\n",
       "    <tr>\n",
       "      <th>3</th>\n",
       "      <td>12749</td>\n",
       "      <td>4090.88</td>\n",
       "    </tr>\n",
       "    <tr>\n",
       "      <th>4</th>\n",
       "      <td>12820</td>\n",
       "      <td>942.34</td>\n",
       "    </tr>\n",
       "  </tbody>\n",
       "</table>\n",
       "</div>"
      ],
      "text/plain": [
       "  CustomerID  Monetary\n",
       "0      12346  77183.60\n",
       "1      12747   4196.01\n",
       "2      12748  33719.73\n",
       "3      12749   4090.88\n",
       "4      12820    942.34"
      ]
     },
     "execution_count": 39,
     "metadata": {},
     "output_type": "execute_result"
    }
   ],
   "source": [
    "monetary_df = retail_uk.groupby(by='CustomerID',as_index=False)['Amount'].sum()\n",
    "monetary_df.columns = ['CustomerID','Monetary']\n",
    "monetary_df.head()"
   ]
  },
  {
   "cell_type": "markdown",
   "metadata": {},
   "source": [
    "# RFM TABLE\n",
    "\n",
    "merging recency dataframe with frequency dataframe, resulting a temporary dataframe"
   ]
  },
  {
   "cell_type": "code",
   "execution_count": 40,
   "metadata": {},
   "outputs": [
    {
     "data": {
      "text/html": [
       "<div>\n",
       "<style scoped>\n",
       "    .dataframe tbody tr th:only-of-type {\n",
       "        vertical-align: middle;\n",
       "    }\n",
       "\n",
       "    .dataframe tbody tr th {\n",
       "        vertical-align: top;\n",
       "    }\n",
       "\n",
       "    .dataframe thead th {\n",
       "        text-align: right;\n",
       "    }\n",
       "</style>\n",
       "<table border=\"1\" class=\"dataframe\">\n",
       "  <thead>\n",
       "    <tr style=\"text-align: right;\">\n",
       "      <th></th>\n",
       "      <th>CustomerID</th>\n",
       "      <th>Recency</th>\n",
       "      <th>Frequency</th>\n",
       "    </tr>\n",
       "  </thead>\n",
       "  <tbody>\n",
       "    <tr>\n",
       "      <th>0</th>\n",
       "      <td>12346</td>\n",
       "      <td>325</td>\n",
       "      <td>1</td>\n",
       "    </tr>\n",
       "    <tr>\n",
       "      <th>1</th>\n",
       "      <td>12747</td>\n",
       "      <td>2</td>\n",
       "      <td>11</td>\n",
       "    </tr>\n",
       "    <tr>\n",
       "      <th>2</th>\n",
       "      <td>12748</td>\n",
       "      <td>0</td>\n",
       "      <td>210</td>\n",
       "    </tr>\n",
       "    <tr>\n",
       "      <th>3</th>\n",
       "      <td>12749</td>\n",
       "      <td>3</td>\n",
       "      <td>5</td>\n",
       "    </tr>\n",
       "    <tr>\n",
       "      <th>4</th>\n",
       "      <td>12820</td>\n",
       "      <td>3</td>\n",
       "      <td>4</td>\n",
       "    </tr>\n",
       "  </tbody>\n",
       "</table>\n",
       "</div>"
      ],
      "text/plain": [
       "  CustomerID  Recency  Frequency\n",
       "0      12346      325          1\n",
       "1      12747        2         11\n",
       "2      12748        0        210\n",
       "3      12749        3          5\n",
       "4      12820        3          4"
      ]
     },
     "execution_count": 40,
     "metadata": {},
     "output_type": "execute_result"
    }
   ],
   "source": [
    "\n",
    "temp_df = recency_df.merge(frequency_df,on='CustomerID')\n",
    "temp_df.head()"
   ]
  },
  {
   "cell_type": "markdown",
   "metadata": {},
   "source": [
    "# Merging with monetary dataframe to get a table with the 3 columns\n",
    "\n"
   ]
  },
  {
   "cell_type": "code",
   "execution_count": 41,
   "metadata": {},
   "outputs": [
    {
     "data": {
      "text/html": [
       "<div>\n",
       "<style scoped>\n",
       "    .dataframe tbody tr th:only-of-type {\n",
       "        vertical-align: middle;\n",
       "    }\n",
       "\n",
       "    .dataframe tbody tr th {\n",
       "        vertical-align: top;\n",
       "    }\n",
       "\n",
       "    .dataframe thead th {\n",
       "        text-align: right;\n",
       "    }\n",
       "</style>\n",
       "<table border=\"1\" class=\"dataframe\">\n",
       "  <thead>\n",
       "    <tr style=\"text-align: right;\">\n",
       "      <th></th>\n",
       "      <th>CustomerID</th>\n",
       "      <th>Recency</th>\n",
       "      <th>Frequency</th>\n",
       "      <th>Monetary</th>\n",
       "    </tr>\n",
       "  </thead>\n",
       "  <tbody>\n",
       "    <tr>\n",
       "      <th>0</th>\n",
       "      <td>12346</td>\n",
       "      <td>325</td>\n",
       "      <td>1</td>\n",
       "      <td>77183.60</td>\n",
       "    </tr>\n",
       "    <tr>\n",
       "      <th>1</th>\n",
       "      <td>12747</td>\n",
       "      <td>2</td>\n",
       "      <td>11</td>\n",
       "      <td>4196.01</td>\n",
       "    </tr>\n",
       "    <tr>\n",
       "      <th>2</th>\n",
       "      <td>12748</td>\n",
       "      <td>0</td>\n",
       "      <td>210</td>\n",
       "      <td>33719.73</td>\n",
       "    </tr>\n",
       "    <tr>\n",
       "      <th>3</th>\n",
       "      <td>12749</td>\n",
       "      <td>3</td>\n",
       "      <td>5</td>\n",
       "      <td>4090.88</td>\n",
       "    </tr>\n",
       "    <tr>\n",
       "      <th>4</th>\n",
       "      <td>12820</td>\n",
       "      <td>3</td>\n",
       "      <td>4</td>\n",
       "      <td>942.34</td>\n",
       "    </tr>\n",
       "    <tr>\n",
       "      <th>...</th>\n",
       "      <td>...</td>\n",
       "      <td>...</td>\n",
       "      <td>...</td>\n",
       "      <td>...</td>\n",
       "    </tr>\n",
       "    <tr>\n",
       "      <th>3916</th>\n",
       "      <td>18280</td>\n",
       "      <td>277</td>\n",
       "      <td>1</td>\n",
       "      <td>180.60</td>\n",
       "    </tr>\n",
       "    <tr>\n",
       "      <th>3917</th>\n",
       "      <td>18281</td>\n",
       "      <td>180</td>\n",
       "      <td>1</td>\n",
       "      <td>80.82</td>\n",
       "    </tr>\n",
       "    <tr>\n",
       "      <th>3918</th>\n",
       "      <td>18282</td>\n",
       "      <td>7</td>\n",
       "      <td>2</td>\n",
       "      <td>178.05</td>\n",
       "    </tr>\n",
       "    <tr>\n",
       "      <th>3919</th>\n",
       "      <td>18283</td>\n",
       "      <td>3</td>\n",
       "      <td>16</td>\n",
       "      <td>2094.88</td>\n",
       "    </tr>\n",
       "    <tr>\n",
       "      <th>3920</th>\n",
       "      <td>18287</td>\n",
       "      <td>42</td>\n",
       "      <td>3</td>\n",
       "      <td>1837.28</td>\n",
       "    </tr>\n",
       "  </tbody>\n",
       "</table>\n",
       "<p>3921 rows × 4 columns</p>\n",
       "</div>"
      ],
      "text/plain": [
       "     CustomerID  Recency  Frequency  Monetary\n",
       "0         12346      325          1  77183.60\n",
       "1         12747        2         11   4196.01\n",
       "2         12748        0        210  33719.73\n",
       "3         12749        3          5   4090.88\n",
       "4         12820        3          4    942.34\n",
       "...         ...      ...        ...       ...\n",
       "3916      18280      277          1    180.60\n",
       "3917      18281      180          1     80.82\n",
       "3918      18282        7          2    178.05\n",
       "3919      18283        3         16   2094.88\n",
       "3920      18287       42          3   1837.28\n",
       "\n",
       "[3921 rows x 4 columns]"
      ]
     },
     "execution_count": 41,
     "metadata": {},
     "output_type": "execute_result"
    }
   ],
   "source": [
    "\n",
    "rfm_df = temp_df.merge(monetary_df,on='CustomerID')\n",
    "rfm_df"
   ]
  },
  {
   "cell_type": "markdown",
   "metadata": {},
   "source": [
    "# Making 0's 1, As 0's in Recency column can be ignored\n",
    "\n"
   ]
  },
  {
   "cell_type": "code",
   "execution_count": 42,
   "metadata": {},
   "outputs": [],
   "source": [
    "rfm_df['Recency'] = rfm_df[\"Recency\"] + 1"
   ]
  },
  {
   "cell_type": "markdown",
   "metadata": {},
   "source": [
    "# outlier treatment: the algorithm which is going to be used is vulnerable to outliers which are very very manipulative\n",
    "if not exclude outliers, the results will be heavily influenced"
   ]
  },
  {
   "cell_type": "code",
   "execution_count": 43,
   "metadata": {},
   "outputs": [
    {
     "data": {
      "text/html": [
       "<div>\n",
       "<style scoped>\n",
       "    .dataframe tbody tr th:only-of-type {\n",
       "        vertical-align: middle;\n",
       "    }\n",
       "\n",
       "    .dataframe tbody tr th {\n",
       "        vertical-align: top;\n",
       "    }\n",
       "\n",
       "    .dataframe thead th {\n",
       "        text-align: right;\n",
       "    }\n",
       "</style>\n",
       "<table border=\"1\" class=\"dataframe\">\n",
       "  <thead>\n",
       "    <tr style=\"text-align: right;\">\n",
       "      <th></th>\n",
       "      <th>CustomerID</th>\n",
       "      <th>Recency</th>\n",
       "      <th>Frequency</th>\n",
       "      <th>Monetary</th>\n",
       "    </tr>\n",
       "  </thead>\n",
       "  <tbody>\n",
       "    <tr>\n",
       "      <th>0</th>\n",
       "      <td>12346</td>\n",
       "      <td>326</td>\n",
       "      <td>1</td>\n",
       "      <td>77183.60</td>\n",
       "    </tr>\n",
       "    <tr>\n",
       "      <th>1</th>\n",
       "      <td>12747</td>\n",
       "      <td>3</td>\n",
       "      <td>11</td>\n",
       "      <td>4196.01</td>\n",
       "    </tr>\n",
       "    <tr>\n",
       "      <th>2</th>\n",
       "      <td>12748</td>\n",
       "      <td>1</td>\n",
       "      <td>210</td>\n",
       "      <td>33719.73</td>\n",
       "    </tr>\n",
       "    <tr>\n",
       "      <th>3</th>\n",
       "      <td>12749</td>\n",
       "      <td>4</td>\n",
       "      <td>5</td>\n",
       "      <td>4090.88</td>\n",
       "    </tr>\n",
       "    <tr>\n",
       "      <th>4</th>\n",
       "      <td>12820</td>\n",
       "      <td>4</td>\n",
       "      <td>4</td>\n",
       "      <td>942.34</td>\n",
       "    </tr>\n",
       "    <tr>\n",
       "      <th>...</th>\n",
       "      <td>...</td>\n",
       "      <td>...</td>\n",
       "      <td>...</td>\n",
       "      <td>...</td>\n",
       "    </tr>\n",
       "    <tr>\n",
       "      <th>3916</th>\n",
       "      <td>18280</td>\n",
       "      <td>278</td>\n",
       "      <td>1</td>\n",
       "      <td>180.60</td>\n",
       "    </tr>\n",
       "    <tr>\n",
       "      <th>3917</th>\n",
       "      <td>18281</td>\n",
       "      <td>181</td>\n",
       "      <td>1</td>\n",
       "      <td>80.82</td>\n",
       "    </tr>\n",
       "    <tr>\n",
       "      <th>3918</th>\n",
       "      <td>18282</td>\n",
       "      <td>8</td>\n",
       "      <td>2</td>\n",
       "      <td>178.05</td>\n",
       "    </tr>\n",
       "    <tr>\n",
       "      <th>3919</th>\n",
       "      <td>18283</td>\n",
       "      <td>4</td>\n",
       "      <td>16</td>\n",
       "      <td>2094.88</td>\n",
       "    </tr>\n",
       "    <tr>\n",
       "      <th>3920</th>\n",
       "      <td>18287</td>\n",
       "      <td>43</td>\n",
       "      <td>3</td>\n",
       "      <td>1837.28</td>\n",
       "    </tr>\n",
       "  </tbody>\n",
       "</table>\n",
       "<p>3788 rows × 4 columns</p>\n",
       "</div>"
      ],
      "text/plain": [
       "     CustomerID  Recency  Frequency  Monetary\n",
       "0         12346      326          1  77183.60\n",
       "1         12747        3         11   4196.01\n",
       "2         12748        1        210  33719.73\n",
       "3         12749        4          5   4090.88\n",
       "4         12820        4          4    942.34\n",
       "...         ...      ...        ...       ...\n",
       "3916      18280      278          1    180.60\n",
       "3917      18281      181          1     80.82\n",
       "3918      18282        8          2    178.05\n",
       "3919      18283        4         16   2094.88\n",
       "3920      18287       43          3   1837.28\n",
       "\n",
       "[3788 rows x 4 columns]"
      ]
     },
     "execution_count": 43,
     "metadata": {},
     "output_type": "execute_result"
    }
   ],
   "source": [
    "Q1 = rfm_df.Recency.quantile(0.25)\n",
    "Q3 = rfm_df.Recency.quantile(0.75)\n",
    "IQR = Q3 - Q1\n",
    "rfm_df = rfm_df[(rfm_df.Recency >= (Q1 - 1.5*IQR)) & (rfm_df.Recency <= (Q3 + 1.5*IQR))]\n",
    "rfm_df"
   ]
  },
  {
   "cell_type": "markdown",
   "metadata": {},
   "source": [
    "# Outlier treatment for monetary\n",
    "\n"
   ]
  },
  {
   "cell_type": "code",
   "execution_count": 44,
   "metadata": {},
   "outputs": [
    {
     "data": {
      "text/html": [
       "<div>\n",
       "<style scoped>\n",
       "    .dataframe tbody tr th:only-of-type {\n",
       "        vertical-align: middle;\n",
       "    }\n",
       "\n",
       "    .dataframe tbody tr th {\n",
       "        vertical-align: top;\n",
       "    }\n",
       "\n",
       "    .dataframe thead th {\n",
       "        text-align: right;\n",
       "    }\n",
       "</style>\n",
       "<table border=\"1\" class=\"dataframe\">\n",
       "  <thead>\n",
       "    <tr style=\"text-align: right;\">\n",
       "      <th></th>\n",
       "      <th>CustomerID</th>\n",
       "      <th>Recency</th>\n",
       "      <th>Frequency</th>\n",
       "      <th>Monetary</th>\n",
       "    </tr>\n",
       "  </thead>\n",
       "  <tbody>\n",
       "    <tr>\n",
       "      <th>4</th>\n",
       "      <td>12820</td>\n",
       "      <td>4</td>\n",
       "      <td>4</td>\n",
       "      <td>942.34</td>\n",
       "    </tr>\n",
       "    <tr>\n",
       "      <th>5</th>\n",
       "      <td>12821</td>\n",
       "      <td>215</td>\n",
       "      <td>1</td>\n",
       "      <td>92.72</td>\n",
       "    </tr>\n",
       "    <tr>\n",
       "      <th>6</th>\n",
       "      <td>12822</td>\n",
       "      <td>71</td>\n",
       "      <td>2</td>\n",
       "      <td>948.88</td>\n",
       "    </tr>\n",
       "    <tr>\n",
       "      <th>7</th>\n",
       "      <td>12823</td>\n",
       "      <td>75</td>\n",
       "      <td>5</td>\n",
       "      <td>1759.50</td>\n",
       "    </tr>\n",
       "    <tr>\n",
       "      <th>8</th>\n",
       "      <td>12824</td>\n",
       "      <td>60</td>\n",
       "      <td>1</td>\n",
       "      <td>397.12</td>\n",
       "    </tr>\n",
       "    <tr>\n",
       "      <th>...</th>\n",
       "      <td>...</td>\n",
       "      <td>...</td>\n",
       "      <td>...</td>\n",
       "      <td>...</td>\n",
       "    </tr>\n",
       "    <tr>\n",
       "      <th>3916</th>\n",
       "      <td>18280</td>\n",
       "      <td>278</td>\n",
       "      <td>1</td>\n",
       "      <td>180.60</td>\n",
       "    </tr>\n",
       "    <tr>\n",
       "      <th>3917</th>\n",
       "      <td>18281</td>\n",
       "      <td>181</td>\n",
       "      <td>1</td>\n",
       "      <td>80.82</td>\n",
       "    </tr>\n",
       "    <tr>\n",
       "      <th>3918</th>\n",
       "      <td>18282</td>\n",
       "      <td>8</td>\n",
       "      <td>2</td>\n",
       "      <td>178.05</td>\n",
       "    </tr>\n",
       "    <tr>\n",
       "      <th>3919</th>\n",
       "      <td>18283</td>\n",
       "      <td>4</td>\n",
       "      <td>16</td>\n",
       "      <td>2094.88</td>\n",
       "    </tr>\n",
       "    <tr>\n",
       "      <th>3920</th>\n",
       "      <td>18287</td>\n",
       "      <td>43</td>\n",
       "      <td>3</td>\n",
       "      <td>1837.28</td>\n",
       "    </tr>\n",
       "  </tbody>\n",
       "</table>\n",
       "<p>3421 rows × 4 columns</p>\n",
       "</div>"
      ],
      "text/plain": [
       "     CustomerID  Recency  Frequency  Monetary\n",
       "4         12820        4          4    942.34\n",
       "5         12821      215          1     92.72\n",
       "6         12822       71          2    948.88\n",
       "7         12823       75          5   1759.50\n",
       "8         12824       60          1    397.12\n",
       "...         ...      ...        ...       ...\n",
       "3916      18280      278          1    180.60\n",
       "3917      18281      181          1     80.82\n",
       "3918      18282        8          2    178.05\n",
       "3919      18283        4         16   2094.88\n",
       "3920      18287       43          3   1837.28\n",
       "\n",
       "[3421 rows x 4 columns]"
      ]
     },
     "execution_count": 44,
     "metadata": {},
     "output_type": "execute_result"
    }
   ],
   "source": [
    "Q1 = rfm_df.Monetary.quantile(0.25)\n",
    "Q3 = rfm_df.Monetary.quantile(0.75)\n",
    "IQR = Q3 - Q1\n",
    "rfm_df = rfm_df[(rfm_df.Monetary >= (Q1 - 1.5*IQR)) & (rfm_df.Monetary <= (Q3 + 1.5*IQR))]\n",
    "rfm_df"
   ]
  },
  {
   "cell_type": "markdown",
   "metadata": {},
   "source": [
    "# Importing modules for k-Means Algorithm\n"
   ]
  },
  {
   "cell_type": "code",
   "execution_count": 45,
   "metadata": {},
   "outputs": [],
   "source": [
    "\n",
    "from sklearn.preprocessing import MinMaxScaler, StandardScaler \n",
    "from sklearn.cluster import KMeans, AgglomerativeClustering\n",
    "from scipy.cluster.hierarchy import linkage, dendrogram, cut_tree"
   ]
  },
  {
   "cell_type": "markdown",
   "metadata": {},
   "source": [
    "# Scaling is crucial step to make k-Means clustering to work better\n",
    "\n",
    "scaling Recency values to the range (0,1)\n",
    "\n"
   ]
  },
  {
   "cell_type": "code",
   "execution_count": 46,
   "metadata": {},
   "outputs": [],
   "source": [
    "\n",
    "rfm_df[\"R\"]= (rfm_df[\"Recency\"]-rfm_df[\"Recency\"].min())/(rfm_df[\"Recency\"].max()-rfm_df[\"Recency\"].min())\n"
   ]
  },
  {
   "cell_type": "markdown",
   "metadata": {},
   "source": [
    "# scaling Frequency values to the range (0,1)\n",
    "\n"
   ]
  },
  {
   "cell_type": "code",
   "execution_count": 47,
   "metadata": {},
   "outputs": [],
   "source": [
    "rfm_df[\"F\"]= (rfm_df[\"Frequency\"]-rfm_df[\"Frequency\"].min())/(rfm_df[\"Frequency\"].max()-rfm_df[\"Frequency\"].min())"
   ]
  },
  {
   "cell_type": "markdown",
   "metadata": {},
   "source": [
    "# scaling Monetary values to the range (0,1)\n",
    "\n"
   ]
  },
  {
   "cell_type": "code",
   "execution_count": 48,
   "metadata": {},
   "outputs": [
    {
     "data": {
      "text/html": [
       "<div>\n",
       "<style scoped>\n",
       "    .dataframe tbody tr th:only-of-type {\n",
       "        vertical-align: middle;\n",
       "    }\n",
       "\n",
       "    .dataframe tbody tr th {\n",
       "        vertical-align: top;\n",
       "    }\n",
       "\n",
       "    .dataframe thead th {\n",
       "        text-align: right;\n",
       "    }\n",
       "</style>\n",
       "<table border=\"1\" class=\"dataframe\">\n",
       "  <thead>\n",
       "    <tr style=\"text-align: right;\">\n",
       "      <th></th>\n",
       "      <th>CustomerID</th>\n",
       "      <th>Recency</th>\n",
       "      <th>Frequency</th>\n",
       "      <th>Monetary</th>\n",
       "      <th>R</th>\n",
       "      <th>F</th>\n",
       "      <th>M</th>\n",
       "    </tr>\n",
       "  </thead>\n",
       "  <tbody>\n",
       "    <tr>\n",
       "      <th>4</th>\n",
       "      <td>12820</td>\n",
       "      <td>4</td>\n",
       "      <td>4</td>\n",
       "      <td>942.34</td>\n",
       "      <td>0.009119</td>\n",
       "      <td>0.078947</td>\n",
       "      <td>0.262175</td>\n",
       "    </tr>\n",
       "    <tr>\n",
       "      <th>5</th>\n",
       "      <td>12821</td>\n",
       "      <td>215</td>\n",
       "      <td>1</td>\n",
       "      <td>92.72</td>\n",
       "      <td>0.650456</td>\n",
       "      <td>0.000000</td>\n",
       "      <td>0.025796</td>\n",
       "    </tr>\n",
       "    <tr>\n",
       "      <th>6</th>\n",
       "      <td>12822</td>\n",
       "      <td>71</td>\n",
       "      <td>2</td>\n",
       "      <td>948.88</td>\n",
       "      <td>0.212766</td>\n",
       "      <td>0.026316</td>\n",
       "      <td>0.263995</td>\n",
       "    </tr>\n",
       "    <tr>\n",
       "      <th>7</th>\n",
       "      <td>12823</td>\n",
       "      <td>75</td>\n",
       "      <td>5</td>\n",
       "      <td>1759.50</td>\n",
       "      <td>0.224924</td>\n",
       "      <td>0.105263</td>\n",
       "      <td>0.489524</td>\n",
       "    </tr>\n",
       "    <tr>\n",
       "      <th>8</th>\n",
       "      <td>12824</td>\n",
       "      <td>60</td>\n",
       "      <td>1</td>\n",
       "      <td>397.12</td>\n",
       "      <td>0.179331</td>\n",
       "      <td>0.000000</td>\n",
       "      <td>0.110486</td>\n",
       "    </tr>\n",
       "  </tbody>\n",
       "</table>\n",
       "</div>"
      ],
      "text/plain": [
       "  CustomerID  Recency  Frequency  Monetary         R         F         M\n",
       "4      12820        4          4    942.34  0.009119  0.078947  0.262175\n",
       "5      12821      215          1     92.72  0.650456  0.000000  0.025796\n",
       "6      12822       71          2    948.88  0.212766  0.026316  0.263995\n",
       "7      12823       75          5   1759.50  0.224924  0.105263  0.489524\n",
       "8      12824       60          1    397.12  0.179331  0.000000  0.110486"
      ]
     },
     "execution_count": 48,
     "metadata": {},
     "output_type": "execute_result"
    }
   ],
   "source": [
    "rfm_df[\"M\"]= (rfm_df[\"Monetary\"]-rfm_df[\"Monetary\"].min())/(rfm_df[\"Monetary\"].max()-rfm_df[\"Monetary\"].min())\n",
    "rfm_df.head()\n",
    "\n"
   ]
  },
  {
   "cell_type": "markdown",
   "metadata": {},
   "source": [
    "# Observations\n",
    "In this analysis, the value of the customer is inversely proportional to the Recency value and directly proportional to the Frequency and Monetary values."
   ]
  },
  {
   "cell_type": "markdown",
   "metadata": {},
   "source": [
    "# Now,forming a new DataFrame,So RFM analysis can be made\n",
    "\n"
   ]
  },
  {
   "cell_type": "code",
   "execution_count": 49,
   "metadata": {},
   "outputs": [
    {
     "data": {
      "text/html": [
       "<div>\n",
       "<style scoped>\n",
       "    .dataframe tbody tr th:only-of-type {\n",
       "        vertical-align: middle;\n",
       "    }\n",
       "\n",
       "    .dataframe tbody tr th {\n",
       "        vertical-align: top;\n",
       "    }\n",
       "\n",
       "    .dataframe thead th {\n",
       "        text-align: right;\n",
       "    }\n",
       "</style>\n",
       "<table border=\"1\" class=\"dataframe\">\n",
       "  <thead>\n",
       "    <tr style=\"text-align: right;\">\n",
       "      <th></th>\n",
       "      <th>CustomerID</th>\n",
       "      <th>Recency</th>\n",
       "      <th>Frequency</th>\n",
       "      <th>Monetary</th>\n",
       "      <th>R</th>\n",
       "      <th>F</th>\n",
       "      <th>M</th>\n",
       "    </tr>\n",
       "  </thead>\n",
       "  <tbody>\n",
       "    <tr>\n",
       "      <th>4</th>\n",
       "      <td>12820</td>\n",
       "      <td>4</td>\n",
       "      <td>4</td>\n",
       "      <td>942.34</td>\n",
       "      <td>0.009119</td>\n",
       "      <td>0.078947</td>\n",
       "      <td>0.262175</td>\n",
       "    </tr>\n",
       "    <tr>\n",
       "      <th>5</th>\n",
       "      <td>12821</td>\n",
       "      <td>215</td>\n",
       "      <td>1</td>\n",
       "      <td>92.72</td>\n",
       "      <td>0.650456</td>\n",
       "      <td>0.000000</td>\n",
       "      <td>0.025796</td>\n",
       "    </tr>\n",
       "    <tr>\n",
       "      <th>6</th>\n",
       "      <td>12822</td>\n",
       "      <td>71</td>\n",
       "      <td>2</td>\n",
       "      <td>948.88</td>\n",
       "      <td>0.212766</td>\n",
       "      <td>0.026316</td>\n",
       "      <td>0.263995</td>\n",
       "    </tr>\n",
       "    <tr>\n",
       "      <th>7</th>\n",
       "      <td>12823</td>\n",
       "      <td>75</td>\n",
       "      <td>5</td>\n",
       "      <td>1759.50</td>\n",
       "      <td>0.224924</td>\n",
       "      <td>0.105263</td>\n",
       "      <td>0.489524</td>\n",
       "    </tr>\n",
       "    <tr>\n",
       "      <th>8</th>\n",
       "      <td>12824</td>\n",
       "      <td>60</td>\n",
       "      <td>1</td>\n",
       "      <td>397.12</td>\n",
       "      <td>0.179331</td>\n",
       "      <td>0.000000</td>\n",
       "      <td>0.110486</td>\n",
       "    </tr>\n",
       "  </tbody>\n",
       "</table>\n",
       "</div>"
      ],
      "text/plain": [
       "  CustomerID  Recency  Frequency  Monetary         R         F         M\n",
       "4      12820        4          4    942.34  0.009119  0.078947  0.262175\n",
       "5      12821      215          1     92.72  0.650456  0.000000  0.025796\n",
       "6      12822       71          2    948.88  0.212766  0.026316  0.263995\n",
       "7      12823       75          5   1759.50  0.224924  0.105263  0.489524\n",
       "8      12824       60          1    397.12  0.179331  0.000000  0.110486"
      ]
     },
     "execution_count": 49,
     "metadata": {},
     "output_type": "execute_result"
    }
   ],
   "source": [
    "\n",
    "df = rfm_df\n",
    "df.head()"
   ]
  },
  {
   "cell_type": "code",
   "execution_count": 50,
   "metadata": {},
   "outputs": [
    {
     "data": {
      "text/plain": [
       "<AxesSubplot:>"
      ]
     },
     "execution_count": 50,
     "metadata": {},
     "output_type": "execute_result"
    },
    {
     "data": {
      "image/png": "[encoded data removed]",
      "text/plain": [
       "<Figure size 432x288 with 1 Axes>"
      ]
     },
     "metadata": {
      "needs_background": "light"
     },
     "output_type": "display_data"
    }
   ],
   "source": [
    "df[\"Recency\"].hist()"
   ]
  },
  {
   "cell_type": "code",
   "execution_count": 51,
   "metadata": {},
   "outputs": [
    {
     "data": {
      "text/plain": [
       "<AxesSubplot:>"
      ]
     },
     "execution_count": 51,
     "metadata": {},
     "output_type": "execute_result"
    },
    {
     "data": {
      "image/png": "[encoded data removed]",
      "text/plain": [
       "<Figure size 432x288 with 1 Axes>"
      ]
     },
     "metadata": {
      "needs_background": "light"
     },
     "output_type": "display_data"
    }
   ],
   "source": [
    "df[\"Frequency\"].hist()\n",
    "\n"
   ]
  },
  {
   "cell_type": "code",
   "execution_count": 52,
   "metadata": {},
   "outputs": [
    {
     "data": {
      "text/plain": [
       "<AxesSubplot:>"
      ]
     },
     "execution_count": 52,
     "metadata": {},
     "output_type": "execute_result"
    },
    {
     "data": {
      "image/png": "[encoded data removed]",
      "text/plain": [
       "<Figure size 432x288 with 1 Axes>"
      ]
     },
     "metadata": {
      "needs_background": "light"
     },
     "output_type": "display_data"
    }
   ],
   "source": [
    "df[\"Monetary\"].hist()\n",
    "\n"
   ]
  },
  {
   "cell_type": "code",
   "execution_count": 53,
   "metadata": {},
   "outputs": [
    {
     "data": {
      "image/png": "[encoded data removed]",
      "text/plain": [
       "<Figure size 1080x432 with 3 Axes>"
      ]
     },
     "metadata": {
      "needs_background": "light"
     },
     "output_type": "display_data"
    }
   ],
   "source": [
    "fig, (ax0, ax1, ax2) = plt.subplots(nrows= 1, ncols= 3, sharey=True, figsize=(15, 6))\n",
    "\n",
    "sns.distplot(df[\"Recency\"], ax=ax0, kde=False, color='b')\n",
    "ax0.set(xlabel=\"Recency\", ylabel=\"Number of customers\")\n",
    "\n",
    "sns.distplot(df[\"Frequency\"], ax=ax1, kde=False, color='r')\n",
    "ax1.set(xlabel=\"Frequency\")\n",
    "\n",
    "sns.distplot(df[\"Monetary\"], ax=ax2, kde=False, color='g')\n",
    "ax2.set(xlabel=\"Monetary\")\n",
    "\n",
    "\n",
    "fig.savefig(\"Histograms of Attributes\")"
   ]
  },
  {
   "cell_type": "markdown",
   "metadata": {},
   "source": [
    "# Resetting index for future concatenate purposes\n",
    "\n"
   ]
  },
  {
   "cell_type": "code",
   "execution_count": 54,
   "metadata": {},
   "outputs": [
    {
     "data": {
      "text/html": [
       "<div>\n",
       "<style scoped>\n",
       "    .dataframe tbody tr th:only-of-type {\n",
       "        vertical-align: middle;\n",
       "    }\n",
       "\n",
       "    .dataframe tbody tr th {\n",
       "        vertical-align: top;\n",
       "    }\n",
       "\n",
       "    .dataframe thead th {\n",
       "        text-align: right;\n",
       "    }\n",
       "</style>\n",
       "<table border=\"1\" class=\"dataframe\">\n",
       "  <thead>\n",
       "    <tr style=\"text-align: right;\">\n",
       "      <th></th>\n",
       "      <th>CustomerID</th>\n",
       "      <th>Recency</th>\n",
       "      <th>Frequency</th>\n",
       "      <th>Monetary</th>\n",
       "      <th>R</th>\n",
       "      <th>F</th>\n",
       "      <th>M</th>\n",
       "    </tr>\n",
       "  </thead>\n",
       "  <tbody>\n",
       "    <tr>\n",
       "      <th>0</th>\n",
       "      <td>12820</td>\n",
       "      <td>4</td>\n",
       "      <td>4</td>\n",
       "      <td>942.34</td>\n",
       "      <td>0.009119</td>\n",
       "      <td>0.078947</td>\n",
       "      <td>0.262175</td>\n",
       "    </tr>\n",
       "    <tr>\n",
       "      <th>1</th>\n",
       "      <td>12821</td>\n",
       "      <td>215</td>\n",
       "      <td>1</td>\n",
       "      <td>92.72</td>\n",
       "      <td>0.650456</td>\n",
       "      <td>0.000000</td>\n",
       "      <td>0.025796</td>\n",
       "    </tr>\n",
       "    <tr>\n",
       "      <th>2</th>\n",
       "      <td>12822</td>\n",
       "      <td>71</td>\n",
       "      <td>2</td>\n",
       "      <td>948.88</td>\n",
       "      <td>0.212766</td>\n",
       "      <td>0.026316</td>\n",
       "      <td>0.263995</td>\n",
       "    </tr>\n",
       "    <tr>\n",
       "      <th>3</th>\n",
       "      <td>12823</td>\n",
       "      <td>75</td>\n",
       "      <td>5</td>\n",
       "      <td>1759.50</td>\n",
       "      <td>0.224924</td>\n",
       "      <td>0.105263</td>\n",
       "      <td>0.489524</td>\n",
       "    </tr>\n",
       "    <tr>\n",
       "      <th>4</th>\n",
       "      <td>12824</td>\n",
       "      <td>60</td>\n",
       "      <td>1</td>\n",
       "      <td>397.12</td>\n",
       "      <td>0.179331</td>\n",
       "      <td>0.000000</td>\n",
       "      <td>0.110486</td>\n",
       "    </tr>\n",
       "    <tr>\n",
       "      <th>...</th>\n",
       "      <td>...</td>\n",
       "      <td>...</td>\n",
       "      <td>...</td>\n",
       "      <td>...</td>\n",
       "      <td>...</td>\n",
       "      <td>...</td>\n",
       "      <td>...</td>\n",
       "    </tr>\n",
       "    <tr>\n",
       "      <th>3416</th>\n",
       "      <td>18280</td>\n",
       "      <td>278</td>\n",
       "      <td>1</td>\n",
       "      <td>180.60</td>\n",
       "      <td>0.841945</td>\n",
       "      <td>0.000000</td>\n",
       "      <td>0.050246</td>\n",
       "    </tr>\n",
       "    <tr>\n",
       "      <th>3417</th>\n",
       "      <td>18281</td>\n",
       "      <td>181</td>\n",
       "      <td>1</td>\n",
       "      <td>80.82</td>\n",
       "      <td>0.547112</td>\n",
       "      <td>0.000000</td>\n",
       "      <td>0.022486</td>\n",
       "    </tr>\n",
       "    <tr>\n",
       "      <th>3418</th>\n",
       "      <td>18282</td>\n",
       "      <td>8</td>\n",
       "      <td>2</td>\n",
       "      <td>178.05</td>\n",
       "      <td>0.021277</td>\n",
       "      <td>0.026316</td>\n",
       "      <td>0.049537</td>\n",
       "    </tr>\n",
       "    <tr>\n",
       "      <th>3419</th>\n",
       "      <td>18283</td>\n",
       "      <td>4</td>\n",
       "      <td>16</td>\n",
       "      <td>2094.88</td>\n",
       "      <td>0.009119</td>\n",
       "      <td>0.394737</td>\n",
       "      <td>0.582832</td>\n",
       "    </tr>\n",
       "    <tr>\n",
       "      <th>3420</th>\n",
       "      <td>18287</td>\n",
       "      <td>43</td>\n",
       "      <td>3</td>\n",
       "      <td>1837.28</td>\n",
       "      <td>0.127660</td>\n",
       "      <td>0.052632</td>\n",
       "      <td>0.511163</td>\n",
       "    </tr>\n",
       "  </tbody>\n",
       "</table>\n",
       "<p>3421 rows × 7 columns</p>\n",
       "</div>"
      ],
      "text/plain": [
       "     CustomerID  Recency  Frequency  Monetary         R         F         M\n",
       "0         12820        4          4    942.34  0.009119  0.078947  0.262175\n",
       "1         12821      215          1     92.72  0.650456  0.000000  0.025796\n",
       "2         12822       71          2    948.88  0.212766  0.026316  0.263995\n",
       "3         12823       75          5   1759.50  0.224924  0.105263  0.489524\n",
       "4         12824       60          1    397.12  0.179331  0.000000  0.110486\n",
       "...         ...      ...        ...       ...       ...       ...       ...\n",
       "3416      18280      278          1    180.60  0.841945  0.000000  0.050246\n",
       "3417      18281      181          1     80.82  0.547112  0.000000  0.022486\n",
       "3418      18282        8          2    178.05  0.021277  0.026316  0.049537\n",
       "3419      18283        4         16   2094.88  0.009119  0.394737  0.582832\n",
       "3420      18287       43          3   1837.28  0.127660  0.052632  0.511163\n",
       "\n",
       "[3421 rows x 7 columns]"
      ]
     },
     "execution_count": 54,
     "metadata": {},
     "output_type": "execute_result"
    }
   ],
   "source": [
    "df.reset_index(drop=True, inplace=True)\n",
    "df"
   ]
  },
  {
   "cell_type": "markdown",
   "metadata": {},
   "source": [
    "# HOPKIN's STATISTICS\n",
    "Tells how much data is suitable to cluster"
   ]
  },
  {
   "cell_type": "code",
   "execution_count": 55,
   "metadata": {},
   "outputs": [],
   "source": [
    "\n",
    "\n",
    "from sklearn.neighbors import NearestNeighbors\n",
    "from random import sample\n",
    "from numpy.random import uniform\n",
    "import numpy as np\n",
    "from math import isnan\n",
    " \n",
    "def hopkins(X):\n",
    "    d = X.shape[1]\n",
    "    #d = len(vars) # columns\n",
    "    n = len(X) # rows\n",
    "    m = int(0.1 * n) \n",
    "    nbrs = NearestNeighbors(n_neighbors=1).fit(X.values)\n",
    " \n",
    "    rand_X = sample(range(0, n, 1), m)\n",
    " \n",
    "    ujd = []\n",
    "    wjd = []\n",
    "    for j in range(0, m):\n",
    "        u_dist, _ = nbrs.kneighbors(uniform(np.amin(X,axis=0),np.amax(X,axis=0),d).reshape(1, -1), 2, return_distance=True)\n",
    "        ujd.append(u_dist[0][1])\n",
    "        w_dist, _ = nbrs.kneighbors(X.iloc[rand_X[j]].values.reshape(1, -1), 2, return_distance=True)\n",
    "        wjd.append(w_dist[0][1])\n",
    " \n",
    "    H = sum(ujd) / (sum(ujd) + sum(wjd))\n",
    "    if isnan(H):\n",
    "        print(ujd, wjd)\n",
    "        H = 0\n",
    " \n",
    "    return H"
   ]
  },
  {
   "cell_type": "code",
   "execution_count": 56,
   "metadata": {},
   "outputs": [
    {
     "data": {
      "text/plain": [
       "0.5661701615443039"
      ]
     },
     "execution_count": 56,
     "metadata": {},
     "output_type": "execute_result"
    }
   ],
   "source": [
    "hopkins(df[[\"CustomerID\",\"R\",\"F\",\"M\"]])\n",
    "\n",
    "\n"
   ]
  },
  {
   "cell_type": "markdown",
   "metadata": {},
   "source": [
    "when applying clustering algorithms to a dataset, you can calculate the Hopkins statistic before clustering to determine whether clustering is appropriate for the dataset. If the Hopkins statistic is close to 1, it suggests that the dataset has a clear clustering structure, making it suitable for clustering analysis. Conversely, if the Hopkins statistic is close to 0, it indicates that the dataset is relatively uniformly distributed, and clustering may not be appropriate."
   ]
  },
  {
   "cell_type": "markdown",
   "metadata": {},
   "source": [
    "# Forming a new DF which includes only scaled R,F,M scores\n",
    "\n"
   ]
  },
  {
   "cell_type": "code",
   "execution_count": 57,
   "metadata": {},
   "outputs": [
    {
     "data": {
      "text/html": [
       "<div>\n",
       "<style scoped>\n",
       "    .dataframe tbody tr th:only-of-type {\n",
       "        vertical-align: middle;\n",
       "    }\n",
       "\n",
       "    .dataframe tbody tr th {\n",
       "        vertical-align: top;\n",
       "    }\n",
       "\n",
       "    .dataframe thead th {\n",
       "        text-align: right;\n",
       "    }\n",
       "</style>\n",
       "<table border=\"1\" class=\"dataframe\">\n",
       "  <thead>\n",
       "    <tr style=\"text-align: right;\">\n",
       "      <th></th>\n",
       "      <th>R</th>\n",
       "      <th>F</th>\n",
       "      <th>M</th>\n",
       "    </tr>\n",
       "    <tr>\n",
       "      <th>CustomerID</th>\n",
       "      <th></th>\n",
       "      <th></th>\n",
       "      <th></th>\n",
       "    </tr>\n",
       "  </thead>\n",
       "  <tbody>\n",
       "    <tr>\n",
       "      <th>12820</th>\n",
       "      <td>0.009119</td>\n",
       "      <td>0.078947</td>\n",
       "      <td>0.262175</td>\n",
       "    </tr>\n",
       "    <tr>\n",
       "      <th>12821</th>\n",
       "      <td>0.650456</td>\n",
       "      <td>0.000000</td>\n",
       "      <td>0.025796</td>\n",
       "    </tr>\n",
       "    <tr>\n",
       "      <th>12822</th>\n",
       "      <td>0.212766</td>\n",
       "      <td>0.026316</td>\n",
       "      <td>0.263995</td>\n",
       "    </tr>\n",
       "    <tr>\n",
       "      <th>12823</th>\n",
       "      <td>0.224924</td>\n",
       "      <td>0.105263</td>\n",
       "      <td>0.489524</td>\n",
       "    </tr>\n",
       "    <tr>\n",
       "      <th>12824</th>\n",
       "      <td>0.179331</td>\n",
       "      <td>0.000000</td>\n",
       "      <td>0.110486</td>\n",
       "    </tr>\n",
       "    <tr>\n",
       "      <th>12826</th>\n",
       "      <td>0.006079</td>\n",
       "      <td>0.157895</td>\n",
       "      <td>0.410293</td>\n",
       "    </tr>\n",
       "    <tr>\n",
       "      <th>12827</th>\n",
       "      <td>0.015198</td>\n",
       "      <td>0.052632</td>\n",
       "      <td>0.119675</td>\n",
       "    </tr>\n",
       "    <tr>\n",
       "      <th>12828</th>\n",
       "      <td>0.006079</td>\n",
       "      <td>0.131579</td>\n",
       "      <td>0.283423</td>\n",
       "    </tr>\n",
       "    <tr>\n",
       "      <th>12831</th>\n",
       "      <td>0.796353</td>\n",
       "      <td>0.000000</td>\n",
       "      <td>0.059831</td>\n",
       "    </tr>\n",
       "    <tr>\n",
       "      <th>12832</th>\n",
       "      <td>0.097264</td>\n",
       "      <td>0.026316</td>\n",
       "      <td>0.106566</td>\n",
       "    </tr>\n",
       "    <tr>\n",
       "      <th>12833</th>\n",
       "      <td>0.440729</td>\n",
       "      <td>0.000000</td>\n",
       "      <td>0.116122</td>\n",
       "    </tr>\n",
       "    <tr>\n",
       "      <th>12834</th>\n",
       "      <td>0.857143</td>\n",
       "      <td>0.000000</td>\n",
       "      <td>0.086910</td>\n",
       "    </tr>\n",
       "    <tr>\n",
       "      <th>12836</th>\n",
       "      <td>0.179331</td>\n",
       "      <td>0.078947</td>\n",
       "      <td>0.726943</td>\n",
       "    </tr>\n",
       "    <tr>\n",
       "      <th>12837</th>\n",
       "      <td>0.525836</td>\n",
       "      <td>0.000000</td>\n",
       "      <td>0.037309</td>\n",
       "    </tr>\n",
       "    <tr>\n",
       "      <th>12838</th>\n",
       "      <td>0.100304</td>\n",
       "      <td>0.026316</td>\n",
       "      <td>0.190059</td>\n",
       "    </tr>\n",
       "    <tr>\n",
       "      <th>12840</th>\n",
       "      <td>0.434650</td>\n",
       "      <td>0.078947</td>\n",
       "      <td>0.758635</td>\n",
       "    </tr>\n",
       "    <tr>\n",
       "      <th>12842</th>\n",
       "      <td>0.212766</td>\n",
       "      <td>0.026316</td>\n",
       "      <td>0.311323</td>\n",
       "    </tr>\n",
       "    <tr>\n",
       "      <th>12843</th>\n",
       "      <td>0.197568</td>\n",
       "      <td>0.184211</td>\n",
       "      <td>0.473599</td>\n",
       "    </tr>\n",
       "    <tr>\n",
       "      <th>12844</th>\n",
       "      <td>0.088146</td>\n",
       "      <td>0.026316</td>\n",
       "      <td>0.090688</td>\n",
       "    </tr>\n",
       "    <tr>\n",
       "      <th>12845</th>\n",
       "      <td>0.811550</td>\n",
       "      <td>0.078947</td>\n",
       "      <td>0.098514</td>\n",
       "    </tr>\n",
       "  </tbody>\n",
       "</table>\n",
       "</div>"
      ],
      "text/plain": [
       "                   R         F         M\n",
       "CustomerID                              \n",
       "12820       0.009119  0.078947  0.262175\n",
       "12821       0.650456  0.000000  0.025796\n",
       "12822       0.212766  0.026316  0.263995\n",
       "12823       0.224924  0.105263  0.489524\n",
       "12824       0.179331  0.000000  0.110486\n",
       "12826       0.006079  0.157895  0.410293\n",
       "12827       0.015198  0.052632  0.119675\n",
       "12828       0.006079  0.131579  0.283423\n",
       "12831       0.796353  0.000000  0.059831\n",
       "12832       0.097264  0.026316  0.106566\n",
       "12833       0.440729  0.000000  0.116122\n",
       "12834       0.857143  0.000000  0.086910\n",
       "12836       0.179331  0.078947  0.726943\n",
       "12837       0.525836  0.000000  0.037309\n",
       "12838       0.100304  0.026316  0.190059\n",
       "12840       0.434650  0.078947  0.758635\n",
       "12842       0.212766  0.026316  0.311323\n",
       "12843       0.197568  0.184211  0.473599\n",
       "12844       0.088146  0.026316  0.090688\n",
       "12845       0.811550  0.078947  0.098514"
      ]
     },
     "execution_count": 57,
     "metadata": {},
     "output_type": "execute_result"
    }
   ],
   "source": [
    "df_1 = df[[\"CustomerID\",\"R\",\"F\",\"M\"]]\n",
    "df_1.set_index(\"CustomerID\", inplace=True)\n",
    "df_1.head(20)"
   ]
  },
  {
   "cell_type": "markdown",
   "metadata": {},
   "source": [
    "# DENDROGRAM"
   ]
  },
  {
   "cell_type": "code",
   "execution_count": 58,
   "metadata": {},
   "outputs": [
    {
     "data": {
      "image/png": "[encoded data removed]",
      "text/plain": [
       "<Figure size 432x288 with 1 Axes>"
      ]
     },
     "metadata": {
      "needs_background": "light"
     },
     "output_type": "display_data"
    }
   ],
   "source": [
    "d = linkage(df_1, method='complete')\n",
    "dendrogram(d,\n",
    "          leaf_rotation=90,\n",
    "          leaf_font_size=5)\n",
    "plt.show()"
   ]
  },
  {
   "cell_type": "code",
   "execution_count": 59,
   "metadata": {},
   "outputs": [],
   "source": [
    "model = KMeans(n_clusters= 4, init= 'random', max_iter= 500, tol= 1e-10)"
   ]
  },
  {
   "cell_type": "code",
   "execution_count": 60,
   "metadata": {},
   "outputs": [
    {
     "name": "stdout",
     "output_type": "stream",
     "text": [
      "[[0.11608864 0.03660847 0.16326665]\n",
      " [0.46891173 0.02653805 0.15036858]\n",
      " [0.1008098  0.14144261 0.61920956]\n",
      " [0.80898173 0.00877193 0.09349191]]\n",
      "[0 3 0 ... 0 2 2]\n",
      "83.81120011484113\n",
      "38\n"
     ]
    }
   ],
   "source": [
    "model.fit(df_1)\n",
    "print(model.cluster_centers_)\n",
    "print(model.labels_)\n",
    "print(model.inertia_)\n",
    "print(model.n_iter_)\n"
   ]
  },
  {
   "cell_type": "markdown",
   "metadata": {},
   "source": [
    "model.cluster_centers_: This array contains the coordinates of the cluster centroids. Each row represents a centroid, and the columns represent the features in your dataset. Based on your output, there are four clusters, and each centroid has three dimensions/features.\n",
    "\n",
    "The first row represents the centroid coordinates for the first cluster.\n",
    "The second row represents the centroid coordinates for the second cluster.\n",
    "The third row represents the centroid coordinates for the third cluster.\n",
    "The fourth row represents the centroid coordinates for the fourth cluster.\n",
    "Each centroid is defined by its coordinates in the feature space. For example, the first centroid has coordinates [0.1529969, 0.06306593, 0.10384616] in the feature space.\n",
    "\n",
    "model.labels_: This array contains the cluster labels assigned to each data point in your dataset. Each element in the array represents the cluster label for the corresponding data point. The cluster labels are integers, indicating which cluster each data point belongs to.\n",
    "\n",
    "model.inertia_: This value represents the inertia of the fitted K-means model. Inertia is the sum of squared distances of samples to their closest cluster center. It is a measure of how tightly packed the clusters are around their centroids.\n",
    "\n",
    "model.n_iter_: This value represents the number of iterations that the K-means algorithm ran to converge. It indicates how many iterations were performed before the algorithm reached convergence."
   ]
  },
  {
   "cell_type": "markdown",
   "metadata": {},
   "source": [
    "# FIND OPTIMUM \"K\" for k-Means\n",
    "\n"
   ]
  },
  {
   "cell_type": "code",
   "execution_count": 61,
   "metadata": {},
   "outputs": [
    {
     "name": "stdout",
     "output_type": "stream",
     "text": [
      "Silhouette Score for each K : \n",
      " [[2, 0.5052222674834316], [3, 0.5253591930764813], [4, 0.46802695472051875], [5, 0.43252425171841496], [6, 0.374635098087923], [7, 0.38422074864032946], [8, 0.37601215334652877], [9, 0.34875098064497445], [10, 0.35162723729173534], [11, 0.343366087039084], [12, 0.35143258391298693], [13, 0.3433818281752048], [14, 0.33358006157630293]]\n",
      "Inertia for each K : \n",
      " [[2, 216.27211446277278], [3, 106.35677473656688], [4, 83.81120011484113], [5, 63.33656098388485], [6, 55.26704959837479], [7, 47.86839339108778], [8, 41.45163304124062], [9, 38.206056959793955], [10, 35.00831145418483], [11, 32.20785178143224], [12, 29.807855205680923], [13, 27.93727037383978], [14, 26.315032788073214]]\n",
      "Number of iterations for each K :  [[2, 24], [3, 20], [4, 26], [5, 20], [6, 44], [7, 19], [8, 35], [9, 29], [10, 61], [11, 69], [12, 71], [13, 33], [14, 32]]\n"
     ]
    }
   ],
   "source": [
    "from sklearn.metrics import silhouette_score\n",
    "sse_ = []\n",
    "ssd = []\n",
    "centroids_from_kmeans = []\n",
    "iterations = []\n",
    "\n",
    "for k in range(2, 15):\n",
    "    kmeans = KMeans(n_clusters= k, init= 'random', n_init= 100, max_iter= 500, tol= 1e-10).fit(df_1)\n",
    "    sse_.append([k, silhouette_score(df_1, kmeans.labels_)])\n",
    "    ssd.append([k, kmeans.inertia_])\n",
    "    centroids_from_kmeans.append(kmeans.cluster_centers_)\n",
    "    iterations.append([k, kmeans.n_iter_])\n",
    "\n",
    "print(\"Silhouette Score for each K : \\n\", sse_)\n",
    "print(\"Inertia for each K : \\n\", ssd)\n",
    "print(\"Number of iterations for each K : \", iterations)"
   ]
  },
  {
   "cell_type": "markdown",
   "metadata": {},
   "source": [
    "Loop over K values: The code iterates over a range of K values from 2 to 14.\n",
    "\n",
    "K-means clustering: For each K value, it initializes a K-means clustering model with random initialization (init='random') and fits it to the data (df_1). It sets n_init to 100, meaning the algorithm will be run 100 times with different initial centroids to mitigate the effect of random initialization. Other parameters include max_iter and tol to control the maximum number of iterations and convergence tolerance.\n",
    "\n",
    "Silhouette score: After fitting the K-means model, the code calculates the silhouette score for the clustering result using the silhouette_score function from sklearn.metrics. The silhouette score measures the quality of the clustering result by considering both the cohesion within clusters and the separation between clusters.\n",
    "\n",
    "Inertia: The code also calculates the inertia for each K value. Inertia is the sum of squared distances of samples to their closest cluster center and provides a measure of how tightly packed the clusters are around their centroids.\n",
    "\n",
    "Store results: The silhouette scores, inertia values, and number of iterations for each K value are stored in lists (sse_, ssd, iterations) for further analysis or visualization.\n",
    "\n",
    "Print results: Finally, the code prints the silhouette scores, inertia values, and number of iterations for each K value."
   ]
  },
  {
   "cell_type": "code",
   "execution_count": 62,
   "metadata": {},
   "outputs": [
    {
     "data": {
      "image/png": "[encoded data removed]",
      "text/plain": [
       "<Figure size 432x288 with 1 Axes>"
      ]
     },
     "metadata": {
      "needs_background": "light"
     },
     "output_type": "display_data"
    }
   ],
   "source": [
    "plt.plot(pd.DataFrame(sse_)[0], pd.DataFrame(sse_)[1], label= \"Silhouette Score\")\n",
    "plt.title(\"Silhouette Scores for Varying Number of Clusters\")\n",
    "plt.xlabel(\"No of clusters\")\n",
    "plt.ylabel(\"Silhouette Score\")\n",
    "plt.show()"
   ]
  },
  {
   "cell_type": "markdown",
   "metadata": {},
   "source": [
    "The silhouette score is a measure used to evaluate the quality of clustering results. It provides an indication of how well-separated the clusters are and how similar data points are within the same cluster."
   ]
  },
  {
   "cell_type": "code",
   "execution_count": 63,
   "metadata": {},
   "outputs": [
    {
     "data": {
      "image/png": "[encoded data removed]",
      "text/plain": [
       "<Figure size 432x288 with 1 Axes>"
      ]
     },
     "metadata": {
      "needs_background": "light"
     },
     "output_type": "display_data"
    }
   ],
   "source": [
    "plt.plot(pd.DataFrame(ssd)[0], pd.DataFrame(ssd)[1], label= \"Inertia\")\n",
    "plt.title(\"Inertia of K-means Clustering Results\")\n",
    "plt.xlabel(\"No of clusters\")\n",
    "plt.ylabel(\"Inertia\")\n",
    "plt.show()"
   ]
  },
  {
   "cell_type": "markdown",
   "metadata": {},
   "source": [
    "Inertia is often used as a measure of the fitness of the K-means model to the data. The goal of K-means clustering is to minimize inertia by finding cluster centroids that minimize the within-cluster sum of squares."
   ]
  },
  {
   "cell_type": "markdown",
   "metadata": {},
   "source": [
    "# FIND OPTIMUM \"K\" for k-Means\n",
    "\n"
   ]
  },
  {
   "cell_type": "code",
   "execution_count": 64,
   "metadata": {},
   "outputs": [
    {
     "name": "stdout",
     "output_type": "stream",
     "text": [
      "[[2, 0.4776196264960796], [3, 0.47815686161519033], [4, 0.4401558477926799], [5, 0.4043900661487338], [6, 0.3477770746880385], [7, 0.3356912524587032], [8, 0.3133762157162508], [9, 0.3206520551861039], [10, 0.30176970786757923], [11, 0.28809089871973076], [12, 0.28400841532297216], [13, 0.287515047733015], [14, 0.2902289559253929]]\n"
     ]
    }
   ],
   "source": [
    "sse_ward = []\n",
    "\n",
    "for k in range(2, 15):\n",
    "    h_cluster = AgglomerativeClustering(n_clusters= k)\n",
    "    h_cluster.fit(df_1)\n",
    "    sse_ward.append([k, silhouette_score(df_1, h_cluster.labels_)])\n",
    "\n",
    "print(sse_ward)"
   ]
  },
  {
   "cell_type": "markdown",
   "metadata": {},
   "source": [
    "Loop over K values: The code iterates over a range of K values from 2 to 14.\n",
    "\n",
    "Hierarchical clustering: For each K value, it initializes an AgglomerativeClustering object with the specified number of clusters (n_clusters=k) and fits it to the data (df_1). The Ward linkage method is used by default, which minimizes the variance of clusters being merged.\n",
    "\n",
    "Silhouette score: After fitting the hierarchical clustering model, the code calculates the silhouette score for the clustering result using the silhouette_score function from sklearn.metrics. The silhouette score measures the quality of the clustering result by considering both the cohesion within clusters and the separation between clusters.\n",
    "\n",
    "Store results: The silhouette scores for each K value are stored in the sse_ward list for further analysis or visualization.\n",
    "\n",
    "Print results: Finally, the code prints the silhouette scores for each K value."
   ]
  },
  {
   "cell_type": "markdown",
   "metadata": {},
   "source": [
    "# since low inertia and high silhouette score is desirable, let \"K\" (number of clusters) equals 3\n"
   ]
  },
  {
   "cell_type": "code",
   "execution_count": 65,
   "metadata": {},
   "outputs": [
    {
     "data": {
      "text/plain": [
       "AgglomerativeClustering(n_clusters=3)"
      ]
     },
     "execution_count": 65,
     "metadata": {},
     "output_type": "execute_result"
    }
   ],
   "source": [
    "clustering= AgglomerativeClustering(n_clusters= 3) #linkage=\"ward\", by default\n",
    "clustering.fit(df_1)"
   ]
  },
  {
   "cell_type": "markdown",
   "metadata": {},
   "source": [
    "# Just checking, Agglomerative clustering results\n",
    "\n"
   ]
  },
  {
   "cell_type": "code",
   "execution_count": 66,
   "metadata": {},
   "outputs": [
    {
     "name": "stdout",
     "output_type": "stream",
     "text": [
      "      0\n",
      "0     2\n",
      "1     0\n",
      "2     2\n",
      "3     1\n",
      "4     2\n",
      "...  ..\n",
      "3416  0\n",
      "3417  0\n",
      "3418  2\n",
      "3419  1\n",
      "3420  1\n",
      "\n",
      "[3421 rows x 1 columns]\n"
     ]
    },
    {
     "data": {
      "text/html": [
       "<div>\n",
       "<style scoped>\n",
       "    .dataframe tbody tr th:only-of-type {\n",
       "        vertical-align: middle;\n",
       "    }\n",
       "\n",
       "    .dataframe tbody tr th {\n",
       "        vertical-align: top;\n",
       "    }\n",
       "\n",
       "    .dataframe thead th {\n",
       "        text-align: right;\n",
       "    }\n",
       "</style>\n",
       "<table border=\"1\" class=\"dataframe\">\n",
       "  <thead>\n",
       "    <tr style=\"text-align: right;\">\n",
       "      <th></th>\n",
       "      <th>CustomerID</th>\n",
       "      <th>Recency</th>\n",
       "      <th>Frequency</th>\n",
       "      <th>Monetary</th>\n",
       "      <th>R</th>\n",
       "      <th>F</th>\n",
       "      <th>M</th>\n",
       "      <th>Cluster</th>\n",
       "    </tr>\n",
       "  </thead>\n",
       "  <tbody>\n",
       "    <tr>\n",
       "      <th>0</th>\n",
       "      <td>12820</td>\n",
       "      <td>4</td>\n",
       "      <td>4</td>\n",
       "      <td>942.34</td>\n",
       "      <td>0.009119</td>\n",
       "      <td>0.078947</td>\n",
       "      <td>0.262175</td>\n",
       "      <td>3</td>\n",
       "    </tr>\n",
       "    <tr>\n",
       "      <th>1</th>\n",
       "      <td>12821</td>\n",
       "      <td>215</td>\n",
       "      <td>1</td>\n",
       "      <td>92.72</td>\n",
       "      <td>0.650456</td>\n",
       "      <td>0.000000</td>\n",
       "      <td>0.025796</td>\n",
       "      <td>1</td>\n",
       "    </tr>\n",
       "    <tr>\n",
       "      <th>2</th>\n",
       "      <td>12822</td>\n",
       "      <td>71</td>\n",
       "      <td>2</td>\n",
       "      <td>948.88</td>\n",
       "      <td>0.212766</td>\n",
       "      <td>0.026316</td>\n",
       "      <td>0.263995</td>\n",
       "      <td>3</td>\n",
       "    </tr>\n",
       "    <tr>\n",
       "      <th>3</th>\n",
       "      <td>12823</td>\n",
       "      <td>75</td>\n",
       "      <td>5</td>\n",
       "      <td>1759.50</td>\n",
       "      <td>0.224924</td>\n",
       "      <td>0.105263</td>\n",
       "      <td>0.489524</td>\n",
       "      <td>2</td>\n",
       "    </tr>\n",
       "    <tr>\n",
       "      <th>4</th>\n",
       "      <td>12824</td>\n",
       "      <td>60</td>\n",
       "      <td>1</td>\n",
       "      <td>397.12</td>\n",
       "      <td>0.179331</td>\n",
       "      <td>0.000000</td>\n",
       "      <td>0.110486</td>\n",
       "      <td>3</td>\n",
       "    </tr>\n",
       "    <tr>\n",
       "      <th>5</th>\n",
       "      <td>12826</td>\n",
       "      <td>3</td>\n",
       "      <td>7</td>\n",
       "      <td>1474.72</td>\n",
       "      <td>0.006079</td>\n",
       "      <td>0.157895</td>\n",
       "      <td>0.410293</td>\n",
       "      <td>2</td>\n",
       "    </tr>\n",
       "    <tr>\n",
       "      <th>6</th>\n",
       "      <td>12827</td>\n",
       "      <td>6</td>\n",
       "      <td>3</td>\n",
       "      <td>430.15</td>\n",
       "      <td>0.015198</td>\n",
       "      <td>0.052632</td>\n",
       "      <td>0.119675</td>\n",
       "      <td>3</td>\n",
       "    </tr>\n",
       "    <tr>\n",
       "      <th>7</th>\n",
       "      <td>12828</td>\n",
       "      <td>3</td>\n",
       "      <td>6</td>\n",
       "      <td>1018.71</td>\n",
       "      <td>0.006079</td>\n",
       "      <td>0.131579</td>\n",
       "      <td>0.283423</td>\n",
       "      <td>2</td>\n",
       "    </tr>\n",
       "    <tr>\n",
       "      <th>8</th>\n",
       "      <td>12831</td>\n",
       "      <td>263</td>\n",
       "      <td>1</td>\n",
       "      <td>215.05</td>\n",
       "      <td>0.796353</td>\n",
       "      <td>0.000000</td>\n",
       "      <td>0.059831</td>\n",
       "      <td>1</td>\n",
       "    </tr>\n",
       "    <tr>\n",
       "      <th>9</th>\n",
       "      <td>12832</td>\n",
       "      <td>33</td>\n",
       "      <td>2</td>\n",
       "      <td>383.03</td>\n",
       "      <td>0.097264</td>\n",
       "      <td>0.026316</td>\n",
       "      <td>0.106566</td>\n",
       "      <td>3</td>\n",
       "    </tr>\n",
       "  </tbody>\n",
       "</table>\n",
       "</div>"
      ],
      "text/plain": [
       "  CustomerID  Recency  Frequency  Monetary         R         F         M  \\\n",
       "0      12820        4          4    942.34  0.009119  0.078947  0.262175   \n",
       "1      12821      215          1     92.72  0.650456  0.000000  0.025796   \n",
       "2      12822       71          2    948.88  0.212766  0.026316  0.263995   \n",
       "3      12823       75          5   1759.50  0.224924  0.105263  0.489524   \n",
       "4      12824       60          1    397.12  0.179331  0.000000  0.110486   \n",
       "5      12826        3          7   1474.72  0.006079  0.157895  0.410293   \n",
       "6      12827        6          3    430.15  0.015198  0.052632  0.119675   \n",
       "7      12828        3          6   1018.71  0.006079  0.131579  0.283423   \n",
       "8      12831      263          1    215.05  0.796353  0.000000  0.059831   \n",
       "9      12832       33          2    383.03  0.097264  0.026316  0.106566   \n",
       "\n",
       "   Cluster  \n",
       "0        3  \n",
       "1        1  \n",
       "2        3  \n",
       "3        2  \n",
       "4        3  \n",
       "5        2  \n",
       "6        3  \n",
       "7        2  \n",
       "8        1  \n",
       "9        3  "
      ]
     },
     "execution_count": 66,
     "metadata": {},
     "output_type": "execute_result"
    }
   ],
   "source": [
    "labels_v0= pd.DataFrame(clustering.labels_)\n",
    "print(labels_v0)\n",
    "RFM_0= pd.concat([df, labels_v0], axis=1)\n",
    "RFM_0.columns= [\"CustomerID\", \"Recency\", \"Frequency\", \"Monetary\", \"R\", \"F\", \"M\", \"Cluster\"]\n",
    "RFM_0[\"Cluster\"] = RFM_0[\"Cluster\"] +1\n",
    "RFM_ward= RFM_0\n",
    "RFM_ward.head(10)"
   ]
  },
  {
   "cell_type": "markdown",
   "metadata": {},
   "source": [
    "It creates a DataFrame called labels_v0 containing the cluster labels assigned to each data point by a clustering algorithm (clustering).\n",
    "\n",
    "It concatenates labels_v0 with the original DataFrame df, resulting in a new DataFrame called RFM_0. The columns of RFM_0 are renamed to include the cluster labels.\n",
    "\n",
    "It increments the cluster labels by 1 to start from 1 instead of 0.\n",
    "\n",
    "It assigns the modified RFM_0 DataFrame to a new DataFrame RFM_ward.\n",
    "\n",
    "It displays the first 10 rows of the RFM_ward DataFrame."
   ]
  },
  {
   "cell_type": "code",
   "execution_count": 67,
   "metadata": {},
   "outputs": [
    {
     "data": {
      "text/html": [
       "<div>\n",
       "<style scoped>\n",
       "    .dataframe tbody tr th:only-of-type {\n",
       "        vertical-align: middle;\n",
       "    }\n",
       "\n",
       "    .dataframe tbody tr th {\n",
       "        vertical-align: top;\n",
       "    }\n",
       "\n",
       "    .dataframe thead th {\n",
       "        text-align: right;\n",
       "    }\n",
       "</style>\n",
       "<table border=\"1\" class=\"dataframe\">\n",
       "  <thead>\n",
       "    <tr style=\"text-align: right;\">\n",
       "      <th></th>\n",
       "      <th>R</th>\n",
       "    </tr>\n",
       "    <tr>\n",
       "      <th>Cluster</th>\n",
       "      <th></th>\n",
       "    </tr>\n",
       "  </thead>\n",
       "  <tbody>\n",
       "    <tr>\n",
       "      <th>1</th>\n",
       "      <td>0.626457</td>\n",
       "    </tr>\n",
       "    <tr>\n",
       "      <th>2</th>\n",
       "      <td>0.087947</td>\n",
       "    </tr>\n",
       "    <tr>\n",
       "      <th>3</th>\n",
       "      <td>0.130877</td>\n",
       "    </tr>\n",
       "  </tbody>\n",
       "</table>\n",
       "</div>"
      ],
      "text/plain": [
       "                R\n",
       "Cluster          \n",
       "1        0.626457\n",
       "2        0.087947\n",
       "3        0.130877"
      ]
     },
     "execution_count": 67,
     "metadata": {},
     "output_type": "execute_result"
    }
   ],
   "source": [
    "Clusters_R= pd.DataFrame(RFM_ward.groupby(\"Cluster\").R.mean())\n",
    "Clusters_R"
   ]
  },
  {
   "cell_type": "markdown",
   "metadata": {},
   "source": [
    "customers in Cluster 1 have a higher mean recency compared to customers in Clusters 2 and 3, suggesting that they have not made purchases recently. Conversely, customers in Clusters 2 and 3 have lower mean recency values, indicating more recent purchase activity."
   ]
  },
  {
   "cell_type": "code",
   "execution_count": 68,
   "metadata": {},
   "outputs": [
    {
     "data": {
      "text/html": [
       "<div>\n",
       "<style scoped>\n",
       "    .dataframe tbody tr th:only-of-type {\n",
       "        vertical-align: middle;\n",
       "    }\n",
       "\n",
       "    .dataframe tbody tr th {\n",
       "        vertical-align: top;\n",
       "    }\n",
       "\n",
       "    .dataframe thead th {\n",
       "        text-align: right;\n",
       "    }\n",
       "</style>\n",
       "<table border=\"1\" class=\"dataframe\">\n",
       "  <thead>\n",
       "    <tr style=\"text-align: right;\">\n",
       "      <th></th>\n",
       "      <th>F</th>\n",
       "    </tr>\n",
       "    <tr>\n",
       "      <th>Cluster</th>\n",
       "      <th></th>\n",
       "    </tr>\n",
       "  </thead>\n",
       "  <tbody>\n",
       "    <tr>\n",
       "      <th>1</th>\n",
       "      <td>0.016139</td>\n",
       "    </tr>\n",
       "    <tr>\n",
       "      <th>2</th>\n",
       "      <td>0.136078</td>\n",
       "    </tr>\n",
       "    <tr>\n",
       "      <th>3</th>\n",
       "      <td>0.034719</td>\n",
       "    </tr>\n",
       "  </tbody>\n",
       "</table>\n",
       "</div>"
      ],
      "text/plain": [
       "                F\n",
       "Cluster          \n",
       "1        0.016139\n",
       "2        0.136078\n",
       "3        0.034719"
      ]
     },
     "execution_count": 68,
     "metadata": {},
     "output_type": "execute_result"
    }
   ],
   "source": [
    "Clusters_F= pd.DataFrame(RFM_ward.groupby(\"Cluster\").F.mean())\n",
    "Clusters_F"
   ]
  },
  {
   "cell_type": "markdown",
   "metadata": {},
   "source": [
    "These values provide insights into the average frequency of purchases made by customers within each cluster. For example, customers in Cluster 2 have a higher mean frequency compared to customers in Clusters 1 and 3, suggesting that they make purchases more frequently. Conversely, customers in Clusters 1 and 3 have lower mean frequency values, indicating less frequent purchase activity."
   ]
  },
  {
   "cell_type": "code",
   "execution_count": 69,
   "metadata": {},
   "outputs": [
    {
     "data": {
      "text/html": [
       "<div>\n",
       "<style scoped>\n",
       "    .dataframe tbody tr th:only-of-type {\n",
       "        vertical-align: middle;\n",
       "    }\n",
       "\n",
       "    .dataframe tbody tr th {\n",
       "        vertical-align: top;\n",
       "    }\n",
       "\n",
       "    .dataframe thead th {\n",
       "        text-align: right;\n",
       "    }\n",
       "</style>\n",
       "<table border=\"1\" class=\"dataframe\">\n",
       "  <thead>\n",
       "    <tr style=\"text-align: right;\">\n",
       "      <th></th>\n",
       "      <th>M</th>\n",
       "    </tr>\n",
       "    <tr>\n",
       "      <th>Cluster</th>\n",
       "      <th></th>\n",
       "    </tr>\n",
       "  </thead>\n",
       "  <tbody>\n",
       "    <tr>\n",
       "      <th>1</th>\n",
       "      <td>0.113337</td>\n",
       "    </tr>\n",
       "    <tr>\n",
       "      <th>2</th>\n",
       "      <td>0.586176</td>\n",
       "    </tr>\n",
       "    <tr>\n",
       "      <th>3</th>\n",
       "      <td>0.161205</td>\n",
       "    </tr>\n",
       "  </tbody>\n",
       "</table>\n",
       "</div>"
      ],
      "text/plain": [
       "                M\n",
       "Cluster          \n",
       "1        0.113337\n",
       "2        0.586176\n",
       "3        0.161205"
      ]
     },
     "execution_count": 69,
     "metadata": {},
     "output_type": "execute_result"
    }
   ],
   "source": [
    "Clusters_M= pd.DataFrame(RFM_ward.groupby(\"Cluster\").M.mean())\n",
    "Clusters_M"
   ]
  },
  {
   "cell_type": "markdown",
   "metadata": {},
   "source": [
    "These values provide insights into the average monetary spending of customers within each cluster. For example, customers in Cluster 2 have a higher mean monetary value compared to customers in Clusters 1 and 3, suggesting that they spend more money on purchases. Conversely, customers in Clusters 1 and 3 have lower mean monetary values, indicating lower spending behavior."
   ]
  },
  {
   "cell_type": "markdown",
   "metadata": {},
   "source": [
    "# Initial seeds for k-means\n",
    "\n"
   ]
  },
  {
   "cell_type": "code",
   "execution_count": 70,
   "metadata": {},
   "outputs": [
    {
     "name": "stdout",
     "output_type": "stream",
     "text": [
      "float64\n",
      "[[0.62645742 0.01613898 0.11333652]\n",
      " [0.08794665 0.13607766 0.58617581]\n",
      " [0.13087744 0.03471929 0.16120496]]\n"
     ]
    }
   ],
   "source": [
    "clusters_ward= pd.concat([Clusters_R, Clusters_F, Clusters_M], axis=1)\n",
    "initial_seeds= clusters_ward.to_numpy() #converting to numpy array\n",
    "print(initial_seeds.dtype)\n",
    "print(initial_seeds)"
   ]
  },
  {
   "cell_type": "markdown",
   "metadata": {},
   "source": [
    "# Compare this silhouette value with the silhouette value obtained from k-means with 'random' initial seeds"
   ]
  },
  {
   "cell_type": "code",
   "execution_count": 71,
   "metadata": {},
   "outputs": [
    {
     "name": "stdout",
     "output_type": "stream",
     "text": [
      "106.35677473656688\n",
      "[[0.68476207 0.01499784 0.1113624 ]\n",
      " [0.10744075 0.13849272 0.60952763]\n",
      " [0.14159714 0.03535426 0.16017158]]\n",
      "13.193333333333333\n",
      "0.5253591930764813\n"
     ]
    }
   ],
   "source": [
    "inertias_in_each_iteration= []\n",
    "centroids= []\n",
    "number_of_iterations = []\n",
    "\n",
    "for i in range(300):\n",
    "    model= KMeans(n_clusters= 3, init= 'random', n_init= 10, max_iter= 500, tol= 1e-10)\n",
    "    model.fit(df_1)\n",
    "    inertias_in_each_iteration.append(model.inertia_)\n",
    "    centroids.append(model.cluster_centers_)\n",
    "    number_of_iterations.append(model.n_iter_)\n",
    "\n",
    "print(np.mean(inertias_in_each_iteration))\n",
    "print(centroids[-1])\n",
    "print(np.mean(number_of_iterations))\n",
    "labels= model.labels_\n",
    "labels= pd.Series(labels)\n",
    "print(silhouette_score(df_1, labels))"
   ]
  },
  {
   "cell_type": "markdown",
   "metadata": {},
   "source": [
    "\n",
    "Centroid Coordinates:\n",
    "\n",
    "The final centroid coordinates for the clusters are:\n",
    "Cluster 1: [0.68476207, 0.01499784, 0.1113624]\n",
    "Cluster 2: [0.10744075, 0.13849272, 0.60952763]\n",
    "Cluster 3: [0.14159714, 0.03535426, 0.16017158]\n",
    "These coordinates represent the mean values of the features (Recency, Frequency, Monetary) for each cluster.\n",
    "Number of Iterations:\n",
    "\n",
    "The number of iterations performed for each run of the K-means algorithm is 8. This indicates that the algorithm converged after 8 iterations for each run.\n",
    "Silhouette Score:\n",
    "\n",
    "The silhouette score for the final clustering result is approximately 0.525. This score indicates the quality of the clustering result, with higher values indicating better separation between clusters and lower values indicating overlap between clusters."
   ]
  },
  {
   "cell_type": "markdown",
   "metadata": {},
   "source": [
    "# Resulting dataframe showing customer R,F,M values and which cluster the customer belongs to\n",
    "\n"
   ]
  },
  {
   "cell_type": "code",
   "execution_count": 72,
   "metadata": {},
   "outputs": [
    {
     "data": {
      "text/html": [
       "<div>\n",
       "<style scoped>\n",
       "    .dataframe tbody tr th:only-of-type {\n",
       "        vertical-align: middle;\n",
       "    }\n",
       "\n",
       "    .dataframe tbody tr th {\n",
       "        vertical-align: top;\n",
       "    }\n",
       "\n",
       "    .dataframe thead th {\n",
       "        text-align: right;\n",
       "    }\n",
       "</style>\n",
       "<table border=\"1\" class=\"dataframe\">\n",
       "  <thead>\n",
       "    <tr style=\"text-align: right;\">\n",
       "      <th></th>\n",
       "      <th>CustomerID</th>\n",
       "      <th>Recency</th>\n",
       "      <th>Frequency</th>\n",
       "      <th>Monetary</th>\n",
       "      <th>R</th>\n",
       "      <th>F</th>\n",
       "      <th>M</th>\n",
       "      <th>Cluster</th>\n",
       "    </tr>\n",
       "  </thead>\n",
       "  <tbody>\n",
       "    <tr>\n",
       "      <th>0</th>\n",
       "      <td>12820</td>\n",
       "      <td>4</td>\n",
       "      <td>4</td>\n",
       "      <td>942.34</td>\n",
       "      <td>0.009119</td>\n",
       "      <td>0.078947</td>\n",
       "      <td>0.262175</td>\n",
       "      <td>3</td>\n",
       "    </tr>\n",
       "    <tr>\n",
       "      <th>1</th>\n",
       "      <td>12821</td>\n",
       "      <td>215</td>\n",
       "      <td>1</td>\n",
       "      <td>92.72</td>\n",
       "      <td>0.650456</td>\n",
       "      <td>0.000000</td>\n",
       "      <td>0.025796</td>\n",
       "      <td>1</td>\n",
       "    </tr>\n",
       "    <tr>\n",
       "      <th>2</th>\n",
       "      <td>12822</td>\n",
       "      <td>71</td>\n",
       "      <td>2</td>\n",
       "      <td>948.88</td>\n",
       "      <td>0.212766</td>\n",
       "      <td>0.026316</td>\n",
       "      <td>0.263995</td>\n",
       "      <td>3</td>\n",
       "    </tr>\n",
       "    <tr>\n",
       "      <th>3</th>\n",
       "      <td>12823</td>\n",
       "      <td>75</td>\n",
       "      <td>5</td>\n",
       "      <td>1759.50</td>\n",
       "      <td>0.224924</td>\n",
       "      <td>0.105263</td>\n",
       "      <td>0.489524</td>\n",
       "      <td>2</td>\n",
       "    </tr>\n",
       "    <tr>\n",
       "      <th>4</th>\n",
       "      <td>12824</td>\n",
       "      <td>60</td>\n",
       "      <td>1</td>\n",
       "      <td>397.12</td>\n",
       "      <td>0.179331</td>\n",
       "      <td>0.000000</td>\n",
       "      <td>0.110486</td>\n",
       "      <td>3</td>\n",
       "    </tr>\n",
       "  </tbody>\n",
       "</table>\n",
       "</div>"
      ],
      "text/plain": [
       "  CustomerID  Recency  Frequency  Monetary         R         F         M  \\\n",
       "0      12820        4          4    942.34  0.009119  0.078947  0.262175   \n",
       "1      12821      215          1     92.72  0.650456  0.000000  0.025796   \n",
       "2      12822       71          2    948.88  0.212766  0.026316  0.263995   \n",
       "3      12823       75          5   1759.50  0.224924  0.105263  0.489524   \n",
       "4      12824       60          1    397.12  0.179331  0.000000  0.110486   \n",
       "\n",
       "   Cluster  \n",
       "0        3  \n",
       "1        1  \n",
       "2        3  \n",
       "3        2  \n",
       "4        3  "
      ]
     },
     "execution_count": 72,
     "metadata": {},
     "output_type": "execute_result"
    }
   ],
   "source": [
    "RFM_1 = pd.concat([df, pd.Series(labels)], axis= 1)\n",
    "RFM_1.columns= [\"CustomerID\", \"Recency\", \"Frequency\", \"Monetary\", \"R\", \"F\", \"M\", \"Cluster\"]\n",
    "RFM_1[\"Cluster\"] = RFM_1[\"Cluster\"] +1\n",
    "RFM_1.head()"
   ]
  },
  {
   "cell_type": "markdown",
   "metadata": {},
   "source": [
    "# Number of customers in each cluster\n",
    "\n"
   ]
  },
  {
   "cell_type": "code",
   "execution_count": 73,
   "metadata": {},
   "outputs": [
    {
     "data": {
      "text/plain": [
       "Cluster\n",
       "1     851\n",
       "2     727\n",
       "3    1843\n",
       "Name: CustomerID, dtype: int64"
      ]
     },
     "execution_count": 73,
     "metadata": {},
     "output_type": "execute_result"
    }
   ],
   "source": [
    "RFM_1.groupby(\"Cluster\").CustomerID.count()"
   ]
  },
  {
   "cell_type": "code",
   "execution_count": 74,
   "metadata": {},
   "outputs": [
    {
     "data": {
      "text/html": [
       "<div>\n",
       "<style scoped>\n",
       "    .dataframe tbody tr th:only-of-type {\n",
       "        vertical-align: middle;\n",
       "    }\n",
       "\n",
       "    .dataframe tbody tr th {\n",
       "        vertical-align: top;\n",
       "    }\n",
       "\n",
       "    .dataframe thead th {\n",
       "        text-align: right;\n",
       "    }\n",
       "</style>\n",
       "<table border=\"1\" class=\"dataframe\">\n",
       "  <thead>\n",
       "    <tr style=\"text-align: right;\">\n",
       "      <th></th>\n",
       "      <th>Recency</th>\n",
       "    </tr>\n",
       "    <tr>\n",
       "      <th>Cluster</th>\n",
       "      <th></th>\n",
       "    </tr>\n",
       "  </thead>\n",
       "  <tbody>\n",
       "    <tr>\n",
       "      <th>1</th>\n",
       "      <td>226.286722</td>\n",
       "    </tr>\n",
       "    <tr>\n",
       "      <th>2</th>\n",
       "      <td>36.348006</td>\n",
       "    </tr>\n",
       "    <tr>\n",
       "      <th>3</th>\n",
       "      <td>47.585458</td>\n",
       "    </tr>\n",
       "  </tbody>\n",
       "</table>\n",
       "</div>"
      ],
      "text/plain": [
       "            Recency\n",
       "Cluster            \n",
       "1        226.286722\n",
       "2         36.348006\n",
       "3         47.585458"
      ]
     },
     "execution_count": 74,
     "metadata": {},
     "output_type": "execute_result"
    }
   ],
   "source": [
    "Clusters_Recency= pd.DataFrame(RFM_1.groupby(\"Cluster\").Recency.mean())\n",
    "Clusters_Recency"
   ]
  },
  {
   "cell_type": "code",
   "execution_count": 75,
   "metadata": {},
   "outputs": [
    {
     "data": {
      "text/html": [
       "<div>\n",
       "<style scoped>\n",
       "    .dataframe tbody tr th:only-of-type {\n",
       "        vertical-align: middle;\n",
       "    }\n",
       "\n",
       "    .dataframe tbody tr th {\n",
       "        vertical-align: top;\n",
       "    }\n",
       "\n",
       "    .dataframe thead th {\n",
       "        text-align: right;\n",
       "    }\n",
       "</style>\n",
       "<table border=\"1\" class=\"dataframe\">\n",
       "  <thead>\n",
       "    <tr style=\"text-align: right;\">\n",
       "      <th></th>\n",
       "      <th>Frequency</th>\n",
       "    </tr>\n",
       "    <tr>\n",
       "      <th>Cluster</th>\n",
       "      <th></th>\n",
       "    </tr>\n",
       "  </thead>\n",
       "  <tbody>\n",
       "    <tr>\n",
       "      <th>1</th>\n",
       "      <td>1.569918</td>\n",
       "    </tr>\n",
       "    <tr>\n",
       "      <th>2</th>\n",
       "      <td>6.262724</td>\n",
       "    </tr>\n",
       "    <tr>\n",
       "      <th>3</th>\n",
       "      <td>2.343462</td>\n",
       "    </tr>\n",
       "  </tbody>\n",
       "</table>\n",
       "</div>"
      ],
      "text/plain": [
       "         Frequency\n",
       "Cluster           \n",
       "1         1.569918\n",
       "2         6.262724\n",
       "3         2.343462"
      ]
     },
     "execution_count": 75,
     "metadata": {},
     "output_type": "execute_result"
    }
   ],
   "source": [
    "Clusters_Frequency= pd.DataFrame(RFM_1.groupby(\"Cluster\").Frequency.mean())\n",
    "Clusters_Frequency"
   ]
  },
  {
   "cell_type": "code",
   "execution_count": 76,
   "metadata": {},
   "outputs": [
    {
     "data": {
      "text/html": [
       "<div>\n",
       "<style scoped>\n",
       "    .dataframe tbody tr th:only-of-type {\n",
       "        vertical-align: middle;\n",
       "    }\n",
       "\n",
       "    .dataframe tbody tr th {\n",
       "        vertical-align: top;\n",
       "    }\n",
       "\n",
       "    .dataframe thead th {\n",
       "        text-align: right;\n",
       "    }\n",
       "</style>\n",
       "<table border=\"1\" class=\"dataframe\">\n",
       "  <thead>\n",
       "    <tr style=\"text-align: right;\">\n",
       "      <th></th>\n",
       "      <th>Monetary</th>\n",
       "    </tr>\n",
       "    <tr>\n",
       "      <th>Cluster</th>\n",
       "      <th></th>\n",
       "    </tr>\n",
       "  </thead>\n",
       "  <tbody>\n",
       "    <tr>\n",
       "      <th>1</th>\n",
       "      <td>400.270999</td>\n",
       "    </tr>\n",
       "    <tr>\n",
       "      <th>2</th>\n",
       "      <td>2190.831253</td>\n",
       "    </tr>\n",
       "    <tr>\n",
       "      <th>3</th>\n",
       "      <td>575.706307</td>\n",
       "    </tr>\n",
       "  </tbody>\n",
       "</table>\n",
       "</div>"
      ],
      "text/plain": [
       "            Monetary\n",
       "Cluster             \n",
       "1         400.270999\n",
       "2        2190.831253\n",
       "3         575.706307"
      ]
     },
     "execution_count": 76,
     "metadata": {},
     "output_type": "execute_result"
    }
   ],
   "source": [
    "Clusters_Monetary= pd.DataFrame(RFM_1.groupby(\"Cluster\").Monetary.mean())\n",
    "Clusters_Monetary"
   ]
  },
  {
   "cell_type": "markdown",
   "metadata": {},
   "source": [
    "# Finally creating new dataframe (1 for each cluster)\n",
    "\n"
   ]
  },
  {
   "cell_type": "code",
   "execution_count": 77,
   "metadata": {},
   "outputs": [],
   "source": [
    "cluster_1= RFM_1[RFM_1[\"Cluster\"]==1]\n",
    "cluster_2= RFM_1[RFM_1[\"Cluster\"]==2]\n",
    "cluster_3= RFM_1[RFM_1[\"Cluster\"]==3]"
   ]
  },
  {
   "cell_type": "code",
   "execution_count": 78,
   "metadata": {},
   "outputs": [
    {
     "name": "stdout",
     "output_type": "stream",
     "text": [
      "   Cluster       R_avg     F_avg        M_avg\n",
      "0        1  226.286722  1.569918   400.270999\n",
      "1        2   36.348006  6.262724  2190.831253\n",
      "2        3   47.585458  2.343462   575.706307\n"
     ]
    }
   ],
   "source": [
    "import pandas as pd\n",
    "\n",
    "# Assuming you have your dataset stored in a pandas DataFrame named 'df'\n",
    "\n",
    "# Calculate average values for R, F, M, and Cluster columns\n",
    "avg_values = RFM_1.groupby('Cluster').agg({'Recency': 'mean', 'Frequency': 'mean', 'Monetary': 'mean'}).reset_index()\n",
    "\n",
    "# Rename the columns for better readability\n",
    "avg_values.columns = ['Cluster', 'R_avg', 'F_avg', 'M_avg']\n",
    "\n",
    "# Display the average values\n",
    "print(avg_values)\n"
   ]
  },
  {
   "cell_type": "code",
   "execution_count": 79,
   "metadata": {},
   "outputs": [
    {
     "data": {
      "text/html": [
       "<div>\n",
       "<style scoped>\n",
       "    .dataframe tbody tr th:only-of-type {\n",
       "        vertical-align: middle;\n",
       "    }\n",
       "\n",
       "    .dataframe tbody tr th {\n",
       "        vertical-align: top;\n",
       "    }\n",
       "\n",
       "    .dataframe thead th {\n",
       "        text-align: right;\n",
       "    }\n",
       "</style>\n",
       "<table border=\"1\" class=\"dataframe\">\n",
       "  <thead>\n",
       "    <tr style=\"text-align: right;\">\n",
       "      <th></th>\n",
       "      <th>CustomerID</th>\n",
       "      <th>Recency</th>\n",
       "      <th>Frequency</th>\n",
       "      <th>Monetary</th>\n",
       "      <th>R</th>\n",
       "      <th>F</th>\n",
       "      <th>M</th>\n",
       "      <th>Cluster</th>\n",
       "    </tr>\n",
       "  </thead>\n",
       "  <tbody>\n",
       "    <tr>\n",
       "      <th>1</th>\n",
       "      <td>12821</td>\n",
       "      <td>215</td>\n",
       "      <td>1</td>\n",
       "      <td>92.72</td>\n",
       "      <td>0.650456</td>\n",
       "      <td>0.0</td>\n",
       "      <td>0.025796</td>\n",
       "      <td>1</td>\n",
       "    </tr>\n",
       "    <tr>\n",
       "      <th>8</th>\n",
       "      <td>12831</td>\n",
       "      <td>263</td>\n",
       "      <td>1</td>\n",
       "      <td>215.05</td>\n",
       "      <td>0.796353</td>\n",
       "      <td>0.0</td>\n",
       "      <td>0.059831</td>\n",
       "      <td>1</td>\n",
       "    </tr>\n",
       "    <tr>\n",
       "      <th>10</th>\n",
       "      <td>12833</td>\n",
       "      <td>146</td>\n",
       "      <td>1</td>\n",
       "      <td>417.38</td>\n",
       "      <td>0.440729</td>\n",
       "      <td>0.0</td>\n",
       "      <td>0.116122</td>\n",
       "      <td>1</td>\n",
       "    </tr>\n",
       "    <tr>\n",
       "      <th>11</th>\n",
       "      <td>12834</td>\n",
       "      <td>283</td>\n",
       "      <td>1</td>\n",
       "      <td>312.38</td>\n",
       "      <td>0.857143</td>\n",
       "      <td>0.0</td>\n",
       "      <td>0.086910</td>\n",
       "      <td>1</td>\n",
       "    </tr>\n",
       "    <tr>\n",
       "      <th>13</th>\n",
       "      <td>12837</td>\n",
       "      <td>174</td>\n",
       "      <td>1</td>\n",
       "      <td>134.10</td>\n",
       "      <td>0.525836</td>\n",
       "      <td>0.0</td>\n",
       "      <td>0.037309</td>\n",
       "      <td>1</td>\n",
       "    </tr>\n",
       "  </tbody>\n",
       "</table>\n",
       "</div>"
      ],
      "text/plain": [
       "   CustomerID  Recency  Frequency  Monetary         R    F         M  Cluster\n",
       "1       12821      215          1     92.72  0.650456  0.0  0.025796        1\n",
       "8       12831      263          1    215.05  0.796353  0.0  0.059831        1\n",
       "10      12833      146          1    417.38  0.440729  0.0  0.116122        1\n",
       "11      12834      283          1    312.38  0.857143  0.0  0.086910        1\n",
       "13      12837      174          1    134.10  0.525836  0.0  0.037309        1"
      ]
     },
     "execution_count": 79,
     "metadata": {},
     "output_type": "execute_result"
    }
   ],
   "source": [
    "cluster_1.head()"
   ]
  },
  {
   "cell_type": "code",
   "execution_count": 80,
   "metadata": {},
   "outputs": [
    {
     "data": {
      "text/html": [
       "<div>\n",
       "<style scoped>\n",
       "    .dataframe tbody tr th:only-of-type {\n",
       "        vertical-align: middle;\n",
       "    }\n",
       "\n",
       "    .dataframe tbody tr th {\n",
       "        vertical-align: top;\n",
       "    }\n",
       "\n",
       "    .dataframe thead th {\n",
       "        text-align: right;\n",
       "    }\n",
       "</style>\n",
       "<table border=\"1\" class=\"dataframe\">\n",
       "  <thead>\n",
       "    <tr style=\"text-align: right;\">\n",
       "      <th></th>\n",
       "      <th>CustomerID</th>\n",
       "      <th>Recency</th>\n",
       "      <th>Frequency</th>\n",
       "      <th>Monetary</th>\n",
       "      <th>R</th>\n",
       "      <th>F</th>\n",
       "      <th>M</th>\n",
       "      <th>Cluster</th>\n",
       "    </tr>\n",
       "  </thead>\n",
       "  <tbody>\n",
       "    <tr>\n",
       "      <th>3</th>\n",
       "      <td>12823</td>\n",
       "      <td>75</td>\n",
       "      <td>5</td>\n",
       "      <td>1759.50</td>\n",
       "      <td>0.224924</td>\n",
       "      <td>0.105263</td>\n",
       "      <td>0.489524</td>\n",
       "      <td>2</td>\n",
       "    </tr>\n",
       "    <tr>\n",
       "      <th>5</th>\n",
       "      <td>12826</td>\n",
       "      <td>3</td>\n",
       "      <td>7</td>\n",
       "      <td>1474.72</td>\n",
       "      <td>0.006079</td>\n",
       "      <td>0.157895</td>\n",
       "      <td>0.410293</td>\n",
       "      <td>2</td>\n",
       "    </tr>\n",
       "    <tr>\n",
       "      <th>12</th>\n",
       "      <td>12836</td>\n",
       "      <td>60</td>\n",
       "      <td>4</td>\n",
       "      <td>2612.86</td>\n",
       "      <td>0.179331</td>\n",
       "      <td>0.078947</td>\n",
       "      <td>0.726943</td>\n",
       "      <td>2</td>\n",
       "    </tr>\n",
       "    <tr>\n",
       "      <th>15</th>\n",
       "      <td>12840</td>\n",
       "      <td>144</td>\n",
       "      <td>4</td>\n",
       "      <td>2726.77</td>\n",
       "      <td>0.434650</td>\n",
       "      <td>0.078947</td>\n",
       "      <td>0.758635</td>\n",
       "      <td>2</td>\n",
       "    </tr>\n",
       "    <tr>\n",
       "      <th>17</th>\n",
       "      <td>12843</td>\n",
       "      <td>66</td>\n",
       "      <td>8</td>\n",
       "      <td>1702.26</td>\n",
       "      <td>0.197568</td>\n",
       "      <td>0.184211</td>\n",
       "      <td>0.473599</td>\n",
       "      <td>2</td>\n",
       "    </tr>\n",
       "  </tbody>\n",
       "</table>\n",
       "</div>"
      ],
      "text/plain": [
       "   CustomerID  Recency  Frequency  Monetary         R         F         M  \\\n",
       "3       12823       75          5   1759.50  0.224924  0.105263  0.489524   \n",
       "5       12826        3          7   1474.72  0.006079  0.157895  0.410293   \n",
       "12      12836       60          4   2612.86  0.179331  0.078947  0.726943   \n",
       "15      12840      144          4   2726.77  0.434650  0.078947  0.758635   \n",
       "17      12843       66          8   1702.26  0.197568  0.184211  0.473599   \n",
       "\n",
       "    Cluster  \n",
       "3         2  \n",
       "5         2  \n",
       "12        2  \n",
       "15        2  \n",
       "17        2  "
      ]
     },
     "execution_count": 80,
     "metadata": {},
     "output_type": "execute_result"
    }
   ],
   "source": [
    "cluster_2.head()"
   ]
  },
  {
   "cell_type": "code",
   "execution_count": 81,
   "metadata": {},
   "outputs": [
    {
     "data": {
      "text/html": [
       "<div>\n",
       "<style scoped>\n",
       "    .dataframe tbody tr th:only-of-type {\n",
       "        vertical-align: middle;\n",
       "    }\n",
       "\n",
       "    .dataframe tbody tr th {\n",
       "        vertical-align: top;\n",
       "    }\n",
       "\n",
       "    .dataframe thead th {\n",
       "        text-align: right;\n",
       "    }\n",
       "</style>\n",
       "<table border=\"1\" class=\"dataframe\">\n",
       "  <thead>\n",
       "    <tr style=\"text-align: right;\">\n",
       "      <th></th>\n",
       "      <th>CustomerID</th>\n",
       "      <th>Recency</th>\n",
       "      <th>Frequency</th>\n",
       "      <th>Monetary</th>\n",
       "      <th>R</th>\n",
       "      <th>F</th>\n",
       "      <th>M</th>\n",
       "      <th>Cluster</th>\n",
       "    </tr>\n",
       "  </thead>\n",
       "  <tbody>\n",
       "    <tr>\n",
       "      <th>0</th>\n",
       "      <td>12820</td>\n",
       "      <td>4</td>\n",
       "      <td>4</td>\n",
       "      <td>942.34</td>\n",
       "      <td>0.009119</td>\n",
       "      <td>0.078947</td>\n",
       "      <td>0.262175</td>\n",
       "      <td>3</td>\n",
       "    </tr>\n",
       "    <tr>\n",
       "      <th>2</th>\n",
       "      <td>12822</td>\n",
       "      <td>71</td>\n",
       "      <td>2</td>\n",
       "      <td>948.88</td>\n",
       "      <td>0.212766</td>\n",
       "      <td>0.026316</td>\n",
       "      <td>0.263995</td>\n",
       "      <td>3</td>\n",
       "    </tr>\n",
       "    <tr>\n",
       "      <th>4</th>\n",
       "      <td>12824</td>\n",
       "      <td>60</td>\n",
       "      <td>1</td>\n",
       "      <td>397.12</td>\n",
       "      <td>0.179331</td>\n",
       "      <td>0.000000</td>\n",
       "      <td>0.110486</td>\n",
       "      <td>3</td>\n",
       "    </tr>\n",
       "    <tr>\n",
       "      <th>6</th>\n",
       "      <td>12827</td>\n",
       "      <td>6</td>\n",
       "      <td>3</td>\n",
       "      <td>430.15</td>\n",
       "      <td>0.015198</td>\n",
       "      <td>0.052632</td>\n",
       "      <td>0.119675</td>\n",
       "      <td>3</td>\n",
       "    </tr>\n",
       "    <tr>\n",
       "      <th>7</th>\n",
       "      <td>12828</td>\n",
       "      <td>3</td>\n",
       "      <td>6</td>\n",
       "      <td>1018.71</td>\n",
       "      <td>0.006079</td>\n",
       "      <td>0.131579</td>\n",
       "      <td>0.283423</td>\n",
       "      <td>3</td>\n",
       "    </tr>\n",
       "  </tbody>\n",
       "</table>\n",
       "</div>"
      ],
      "text/plain": [
       "  CustomerID  Recency  Frequency  Monetary         R         F         M  \\\n",
       "0      12820        4          4    942.34  0.009119  0.078947  0.262175   \n",
       "2      12822       71          2    948.88  0.212766  0.026316  0.263995   \n",
       "4      12824       60          1    397.12  0.179331  0.000000  0.110486   \n",
       "6      12827        6          3    430.15  0.015198  0.052632  0.119675   \n",
       "7      12828        3          6   1018.71  0.006079  0.131579  0.283423   \n",
       "\n",
       "   Cluster  \n",
       "0        3  \n",
       "2        3  \n",
       "4        3  \n",
       "6        3  \n",
       "7        3  "
      ]
     },
     "execution_count": 81,
     "metadata": {},
     "output_type": "execute_result"
    }
   ],
   "source": [
    "cluster_3.head()"
   ]
  },
  {
   "cell_type": "markdown",
   "metadata": {},
   "source": [
    "# Conclusion"
   ]
  },
  {
   "cell_type": "markdown",
   "metadata": {},
   "source": [
    "**Cluster 1: Occasional Spenders**\n",
    "\n",
    "Recency (R): The mean recency value for Cluster 1 is the highest among all clusters, indicating that customers in this cluster made purchases less recently compared to other clusters.\n",
    "Frequency (F): The mean frequency value for Cluster 1 is relatively low compared to other clusters, suggesting that customers in this cluster make purchases infrequently.\n",
    "Monetary (M): The mean monetary value for Cluster 1 is also relatively low compared to other clusters, indicating that customers in this cluster spend less money on average compared to customers in other clusters.\n",
    "Interpretation: Cluster 1 likely represents customers who are occasional spenders. They make purchases less frequently and spend less money compared to customers in other clusters. These customers may not be highly engaged or loyal to the brand.\n",
    "\n",
    "**Cluster 2: Moderate Buyers**\n",
    "\n",
    "Recency (R): The mean recency value for Cluster 2 is lower than Cluster 1 but higher than Cluster 3, indicating that customers in this cluster made purchases more recently compared to Cluster 1 but less recently than Cluster 3.\n",
    "Frequency (F): The mean frequency value for Cluster 2 is higher than Cluster 1 but lower than Cluster 3, suggesting that customers in this cluster make purchases moderately frequently.\n",
    "Monetary (M): The mean monetary value for Cluster 2 is moderate, indicating that customers in this cluster spend a moderate amount of money on average compared to customers in other clusters.\n",
    "Interpretation: Cluster 2 likely represents customers who are moderate buyers. They make purchases somewhat frequently and spend a moderate amount of money. These customers may be regular shoppers who contribute consistently to revenue but may not be the highest spenders or most engaged.\n",
    "\n",
    "**Cluster 3: Active Customers**\n",
    "\n",
    "Recency (R): The mean recency value for Cluster 3 is the lowest among all clusters, indicating that customers in this cluster made purchases most recently.\n",
    "Frequency (F): The mean frequency value for Cluster 3 is the highest among all clusters, suggesting that customers in this cluster make purchases most frequently.\n",
    "Monetary (M): The mean monetary value for Cluster 3 is the highest among all clusters, indicating that customers in this cluster spend the most money on average compared to customers in other clusters.\n",
    "Interpretation: Cluster 3 likely represents the most active and valuable segment of customers. They are highly engaged, frequent buyers, and high spenders. These customers are likely loyal and contribute significantly to revenue."
   ]
  },
  {
   "cell_type": "code",
   "execution_count": 82,
   "metadata": {},
   "outputs": [],
   "source": [
    "#Store the DataFrame in a pickle file\n",
    "avg_values.to_pickle('avg_values.pkl')"
   ]
  }
 ],
 "metadata": {
  "kernelspec": {
   "display_name": "Python 3 (ipykernel)",
   "language": "python",
   "name": "python3"
  },
  "language_info": {
   "codemirror_mode": {
    "name": "ipython",
    "version": 3
   },
   "file_extension": ".py",
   "mimetype": "text/x-python",
   "name": "python",
   "nbconvert_exporter": "python",
   "pygments_lexer": "ipython3",
   "version": "3.9.12"
  }
 },
 "nbformat": 4,
 "nbformat_minor": 4
}
